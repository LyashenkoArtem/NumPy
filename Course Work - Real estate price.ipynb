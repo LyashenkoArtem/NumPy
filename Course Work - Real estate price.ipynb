{
 "cells": [
  {
   "cell_type": "code",
   "execution_count": 13,
   "id": "extreme-violation",
   "metadata": {
    "_cell_guid": "b1076dfc-b9ad-4769-8c92-a6c4dae69d19",
    "_uuid": "8f2839f25d086af736a60e9eeb907d3b93b6e0e5",
    "execution": {
     "iopub.execute_input": "2021-05-20T16:50:58.561996Z",
     "iopub.status.busy": "2021-05-20T16:50:58.560780Z",
     "iopub.status.idle": "2021-05-20T16:50:58.573546Z",
     "shell.execute_reply": "2021-05-20T16:50:58.574013Z",
     "shell.execute_reply.started": "2021-05-20T16:47:51.526633Z"
    },
    "papermill": {
     "duration": 0.089905,
     "end_time": "2021-05-20T16:50:58.574329",
     "exception": false,
     "start_time": "2021-05-20T16:50:58.484424",
     "status": "completed"
    },
    "tags": []
   },
   "outputs": [],
   "source": [
    "import numpy as np # linear algebra\n",
    "import pandas as pd # data processing, CSV file I/O (e.g. pd.read_csv)\n",
    "\n",
    "import os\n",
    "for dirname, _, filenames in os.walk('/kaggle/input'):\n",
    "    for filename in filenames:\n",
    "        print(os.path.join(dirname, filename))"
   ]
  },
  {
   "cell_type": "markdown",
   "id": "prostate-lodge",
   "metadata": {
    "papermill": {
     "duration": 0.074485,
     "end_time": "2021-05-20T16:50:58.721675",
     "exception": false,
     "start_time": "2021-05-20T16:50:58.647190",
     "status": "completed"
    },
    "tags": []
   },
   "source": [
    "# Подключаем библиотеки и скрипты"
   ]
  },
  {
   "cell_type": "code",
   "execution_count": 14,
   "id": "impressed-microwave",
   "metadata": {
    "execution": {
     "iopub.execute_input": "2021-05-20T16:50:58.869713Z",
     "iopub.status.busy": "2021-05-20T16:50:58.868738Z",
     "iopub.status.idle": "2021-05-20T16:51:00.147308Z",
     "shell.execute_reply": "2021-05-20T16:51:00.146765Z",
     "shell.execute_reply.started": "2021-05-20T16:47:51.537685Z"
    },
    "papermill": {
     "duration": 1.35352,
     "end_time": "2021-05-20T16:51:00.147479",
     "exception": false,
     "start_time": "2021-05-20T16:50:58.793959",
     "status": "completed"
    },
    "tags": []
   },
   "outputs": [],
   "source": [
    "import numpy as np\n",
    "import pandas as pd\n",
    "import random\n",
    "\n",
    "from sklearn.model_selection import train_test_split, cross_val_score\n",
    "from sklearn.preprocessing import StandardScaler, RobustScaler\n",
    "from sklearn.ensemble import RandomForestRegressor, GradientBoostingRegressor\n",
    "from sklearn.metrics import r2_score as r2\n",
    "from sklearn.model_selection import KFold, GridSearchCV\n",
    "\n",
    "from datetime import datetime\n",
    "\n",
    "import matplotlib\n",
    "import matplotlib.pyplot as plt\n",
    "import seaborn as sns\n",
    "%matplotlib inline"
   ]
  },
  {
   "cell_type": "code",
   "execution_count": 15,
   "id": "pleased-citation",
   "metadata": {
    "execution": {
     "iopub.execute_input": "2021-05-20T16:51:00.296612Z",
     "iopub.status.busy": "2021-05-20T16:51:00.295934Z",
     "iopub.status.idle": "2021-05-20T16:51:00.298913Z",
     "shell.execute_reply": "2021-05-20T16:51:00.298419Z",
     "shell.execute_reply.started": "2021-05-20T16:47:51.549243Z"
    },
    "papermill": {
     "duration": 0.079441,
     "end_time": "2021-05-20T16:51:00.299041",
     "exception": false,
     "start_time": "2021-05-20T16:51:00.219600",
     "status": "completed"
    },
    "tags": []
   },
   "outputs": [],
   "source": [
    "import warnings\n",
    "warnings.filterwarnings('ignore')"
   ]
  },
  {
   "cell_type": "code",
   "execution_count": 16,
   "id": "average-filing",
   "metadata": {
    "execution": {
     "iopub.execute_input": "2021-05-20T16:51:00.447667Z",
     "iopub.status.busy": "2021-05-20T16:51:00.447021Z",
     "iopub.status.idle": "2021-05-20T16:51:00.450733Z",
     "shell.execute_reply": "2021-05-20T16:51:00.451237Z",
     "shell.execute_reply.started": "2021-05-20T16:47:51.562326Z"
    },
    "papermill": {
     "duration": 0.079407,
     "end_time": "2021-05-20T16:51:00.451416",
     "exception": false,
     "start_time": "2021-05-20T16:51:00.372009",
     "status": "completed"
    },
    "tags": []
   },
   "outputs": [],
   "source": [
    "matplotlib.rcParams.update({'font.size': 14})"
   ]
  },
  {
   "cell_type": "code",
   "execution_count": 17,
   "id": "changing-allowance",
   "metadata": {
    "execution": {
     "iopub.execute_input": "2021-05-20T16:51:00.602868Z",
     "iopub.status.busy": "2021-05-20T16:51:00.602222Z",
     "iopub.status.idle": "2021-05-20T16:51:00.609815Z",
     "shell.execute_reply": "2021-05-20T16:51:00.609165Z",
     "shell.execute_reply.started": "2021-05-20T16:47:51.572219Z"
    },
    "papermill": {
     "duration": 0.082909,
     "end_time": "2021-05-20T16:51:00.609960",
     "exception": false,
     "start_time": "2021-05-20T16:51:00.527051",
     "status": "completed"
    },
    "tags": []
   },
   "outputs": [],
   "source": [
    "def evaluate_preds(train_true_values, train_pred_values, test_true_values, test_pred_values):\n",
    "    print(\"Train R2:\\t\" + str(round(r2(train_true_values, train_pred_values), 3)))\n",
    "    print(\"Test R2:\\t\" + str(round(r2(test_true_values, test_pred_values), 3)))\n",
    "    \n",
    "    plt.figure(figsize=(18,10))\n",
    "    \n",
    "    plt.subplot(121)\n",
    "    sns.scatterplot(x=train_pred_values, y=train_true_values)\n",
    "    plt.xlabel('Predicted values')\n",
    "    plt.ylabel('True values')\n",
    "    plt.title('Train sample prediction')\n",
    "    \n",
    "    plt.subplot(122)\n",
    "    sns.scatterplot(x=test_pred_values, y=test_true_values)\n",
    "    plt.xlabel('Predicted values')\n",
    "    plt.ylabel('True values')\n",
    "    plt.title('Test sample prediction')\n",
    "\n",
    "    plt.show()"
   ]
  },
  {
   "cell_type": "markdown",
   "id": "eight-steam",
   "metadata": {
    "papermill": {
     "duration": 0.072008,
     "end_time": "2021-05-20T16:51:00.754096",
     "exception": false,
     "start_time": "2021-05-20T16:51:00.682088",
     "status": "completed"
    },
    "tags": []
   },
   "source": [
    "# Подгружаем датасет"
   ]
  },
  {
   "cell_type": "code",
   "execution_count": 26,
   "id": "living-austria",
   "metadata": {
    "execution": {
     "iopub.execute_input": "2021-05-20T16:51:00.904242Z",
     "iopub.status.busy": "2021-05-20T16:51:00.903598Z",
     "iopub.status.idle": "2021-05-20T16:51:00.906523Z",
     "shell.execute_reply": "2021-05-20T16:51:00.906986Z",
     "shell.execute_reply.started": "2021-05-20T16:47:51.583080Z"
    },
    "papermill": {
     "duration": 0.080044,
     "end_time": "2021-05-20T16:51:00.907163",
     "exception": false,
     "start_time": "2021-05-20T16:51:00.827119",
     "status": "completed"
    },
    "tags": []
   },
   "outputs": [],
   "source": [
    "TRAIN_DATASET_PATH = '/Users/artemlasenko/Documents/GeeksBrains/Numpy/Курсач/train.csv'\n",
    "TEST_DATASET_PATH = '/Users/artemlasenko/Documents/GeeksBrains/Numpy/Курсач/test.csv'"
   ]
  },
  {
   "cell_type": "markdown",
   "id": "outstanding-crawford",
   "metadata": {
    "papermill": {
     "duration": 0.07814,
     "end_time": "2021-05-20T16:51:01.059794",
     "exception": false,
     "start_time": "2021-05-20T16:51:00.981654",
     "status": "completed"
    },
    "tags": []
   },
   "source": [
    "**Описание датасета**\n",
    "\n",
    "* **Id** - идентификационный номер квартиры\n",
    "* **DistrictId** - идентификационный номер района\n",
    "* **Rooms** - количество комнат\n",
    "* **Square** - площадь\n",
    "* **LifeSquare** - жилая площадь\n",
    "* **KitchenSquare** - площадь кухни\n",
    "* **Floor** - этаж\n",
    "* **HouseFloor** - количество этажей в доме\n",
    "* **HouseYear** - год постройки дома\n",
    "* **Ecology_1, Ecology_2, Ecology_3** - экологические показатели местности\n",
    "* **Social_1, Social_2, Social_3** - социальные показатели местности\n",
    "* **Healthcare_1, Helthcare_2** - показатели местности, связанные с охраной здоровья\n",
    "* **Shops_1, Shops_2** - показатели, связанные с наличием магазинов, торговых центров\n",
    "* **Price** - цена квартиры"
   ]
  },
  {
   "cell_type": "code",
   "execution_count": 27,
   "id": "vietnamese-waterproof",
   "metadata": {
    "execution": {
     "iopub.execute_input": "2021-05-20T16:51:01.230928Z",
     "iopub.status.busy": "2021-05-20T16:51:01.229918Z",
     "iopub.status.idle": "2021-05-20T16:51:01.317244Z",
     "shell.execute_reply": "2021-05-20T16:51:01.316674Z",
     "shell.execute_reply.started": "2021-05-20T16:47:51.593736Z"
    },
    "papermill": {
     "duration": 0.164389,
     "end_time": "2021-05-20T16:51:01.317428",
     "exception": false,
     "start_time": "2021-05-20T16:51:01.153039",
     "status": "completed"
    },
    "tags": []
   },
   "outputs": [],
   "source": [
    "train_df = pd.read_csv(TRAIN_DATASET_PATH)\n",
    "test_df = pd.read_csv(TEST_DATASET_PATH)"
   ]
  },
  {
   "cell_type": "code",
   "execution_count": 28,
   "id": "suspected-identifier",
   "metadata": {
    "execution": {
     "iopub.execute_input": "2021-05-20T16:51:01.473667Z",
     "iopub.status.busy": "2021-05-20T16:51:01.472188Z",
     "iopub.status.idle": "2021-05-20T16:51:01.505906Z",
     "shell.execute_reply": "2021-05-20T16:51:01.505371Z",
     "shell.execute_reply.started": "2021-05-20T16:47:51.710534Z"
    },
    "papermill": {
     "duration": 0.115047,
     "end_time": "2021-05-20T16:51:01.506041",
     "exception": false,
     "start_time": "2021-05-20T16:51:01.390994",
     "status": "completed"
    },
    "tags": []
   },
   "outputs": [
    {
     "data": {
      "text/html": [
       "<div>\n",
       "<style scoped>\n",
       "    .dataframe tbody tr th:only-of-type {\n",
       "        vertical-align: middle;\n",
       "    }\n",
       "\n",
       "    .dataframe tbody tr th {\n",
       "        vertical-align: top;\n",
       "    }\n",
       "\n",
       "    .dataframe thead th {\n",
       "        text-align: right;\n",
       "    }\n",
       "</style>\n",
       "<table border=\"1\" class=\"dataframe\">\n",
       "  <thead>\n",
       "    <tr style=\"text-align: right;\">\n",
       "      <th></th>\n",
       "      <th>Id</th>\n",
       "      <th>DistrictId</th>\n",
       "      <th>Rooms</th>\n",
       "      <th>Square</th>\n",
       "      <th>LifeSquare</th>\n",
       "      <th>KitchenSquare</th>\n",
       "      <th>Floor</th>\n",
       "      <th>HouseFloor</th>\n",
       "      <th>HouseYear</th>\n",
       "      <th>Ecology_1</th>\n",
       "      <th>Ecology_2</th>\n",
       "      <th>Ecology_3</th>\n",
       "      <th>Social_1</th>\n",
       "      <th>Social_2</th>\n",
       "      <th>Social_3</th>\n",
       "      <th>Healthcare_1</th>\n",
       "      <th>Helthcare_2</th>\n",
       "      <th>Shops_1</th>\n",
       "      <th>Shops_2</th>\n",
       "      <th>Price</th>\n",
       "    </tr>\n",
       "  </thead>\n",
       "  <tbody>\n",
       "    <tr>\n",
       "      <th>9995</th>\n",
       "      <td>1260</td>\n",
       "      <td>61</td>\n",
       "      <td>2.0</td>\n",
       "      <td>49.090728</td>\n",
       "      <td>33.272626</td>\n",
       "      <td>6.0</td>\n",
       "      <td>3</td>\n",
       "      <td>12.0</td>\n",
       "      <td>1981</td>\n",
       "      <td>0.300323</td>\n",
       "      <td>B</td>\n",
       "      <td>B</td>\n",
       "      <td>52</td>\n",
       "      <td>10311</td>\n",
       "      <td>6</td>\n",
       "      <td>NaN</td>\n",
       "      <td>1</td>\n",
       "      <td>9</td>\n",
       "      <td>B</td>\n",
       "      <td>119367.455796</td>\n",
       "    </tr>\n",
       "    <tr>\n",
       "      <th>9996</th>\n",
       "      <td>16265</td>\n",
       "      <td>27</td>\n",
       "      <td>2.0</td>\n",
       "      <td>64.307684</td>\n",
       "      <td>37.038420</td>\n",
       "      <td>9.0</td>\n",
       "      <td>13</td>\n",
       "      <td>0.0</td>\n",
       "      <td>1977</td>\n",
       "      <td>0.072158</td>\n",
       "      <td>B</td>\n",
       "      <td>B</td>\n",
       "      <td>2</td>\n",
       "      <td>629</td>\n",
       "      <td>1</td>\n",
       "      <td>NaN</td>\n",
       "      <td>0</td>\n",
       "      <td>0</td>\n",
       "      <td>A</td>\n",
       "      <td>199715.148807</td>\n",
       "    </tr>\n",
       "    <tr>\n",
       "      <th>9997</th>\n",
       "      <td>2795</td>\n",
       "      <td>178</td>\n",
       "      <td>1.0</td>\n",
       "      <td>29.648057</td>\n",
       "      <td>16.555363</td>\n",
       "      <td>5.0</td>\n",
       "      <td>3</td>\n",
       "      <td>5.0</td>\n",
       "      <td>1958</td>\n",
       "      <td>0.460556</td>\n",
       "      <td>B</td>\n",
       "      <td>B</td>\n",
       "      <td>20</td>\n",
       "      <td>4386</td>\n",
       "      <td>14</td>\n",
       "      <td>NaN</td>\n",
       "      <td>1</td>\n",
       "      <td>5</td>\n",
       "      <td>B</td>\n",
       "      <td>165953.912580</td>\n",
       "    </tr>\n",
       "    <tr>\n",
       "      <th>9998</th>\n",
       "      <td>14561</td>\n",
       "      <td>21</td>\n",
       "      <td>1.0</td>\n",
       "      <td>32.330292</td>\n",
       "      <td>22.326870</td>\n",
       "      <td>5.0</td>\n",
       "      <td>3</td>\n",
       "      <td>9.0</td>\n",
       "      <td>1969</td>\n",
       "      <td>0.194489</td>\n",
       "      <td>B</td>\n",
       "      <td>B</td>\n",
       "      <td>47</td>\n",
       "      <td>8004</td>\n",
       "      <td>3</td>\n",
       "      <td>125.0</td>\n",
       "      <td>3</td>\n",
       "      <td>5</td>\n",
       "      <td>B</td>\n",
       "      <td>171842.411855</td>\n",
       "    </tr>\n",
       "    <tr>\n",
       "      <th>9999</th>\n",
       "      <td>7202</td>\n",
       "      <td>94</td>\n",
       "      <td>1.0</td>\n",
       "      <td>35.815476</td>\n",
       "      <td>22.301367</td>\n",
       "      <td>6.0</td>\n",
       "      <td>9</td>\n",
       "      <td>9.0</td>\n",
       "      <td>1975</td>\n",
       "      <td>0.127376</td>\n",
       "      <td>B</td>\n",
       "      <td>B</td>\n",
       "      <td>43</td>\n",
       "      <td>8429</td>\n",
       "      <td>3</td>\n",
       "      <td>NaN</td>\n",
       "      <td>3</td>\n",
       "      <td>9</td>\n",
       "      <td>B</td>\n",
       "      <td>177685.627486</td>\n",
       "    </tr>\n",
       "  </tbody>\n",
       "</table>\n",
       "</div>"
      ],
      "text/plain": [
       "         Id  DistrictId  Rooms     Square  LifeSquare  KitchenSquare  Floor  \\\n",
       "9995   1260          61    2.0  49.090728   33.272626            6.0      3   \n",
       "9996  16265          27    2.0  64.307684   37.038420            9.0     13   \n",
       "9997   2795         178    1.0  29.648057   16.555363            5.0      3   \n",
       "9998  14561          21    1.0  32.330292   22.326870            5.0      3   \n",
       "9999   7202          94    1.0  35.815476   22.301367            6.0      9   \n",
       "\n",
       "      HouseFloor  HouseYear  Ecology_1 Ecology_2 Ecology_3  Social_1  \\\n",
       "9995        12.0       1981   0.300323         B         B        52   \n",
       "9996         0.0       1977   0.072158         B         B         2   \n",
       "9997         5.0       1958   0.460556         B         B        20   \n",
       "9998         9.0       1969   0.194489         B         B        47   \n",
       "9999         9.0       1975   0.127376         B         B        43   \n",
       "\n",
       "      Social_2  Social_3  Healthcare_1  Helthcare_2  Shops_1 Shops_2  \\\n",
       "9995     10311         6           NaN            1        9       B   \n",
       "9996       629         1           NaN            0        0       A   \n",
       "9997      4386        14           NaN            1        5       B   \n",
       "9998      8004         3         125.0            3        5       B   \n",
       "9999      8429         3           NaN            3        9       B   \n",
       "\n",
       "              Price  \n",
       "9995  119367.455796  \n",
       "9996  199715.148807  \n",
       "9997  165953.912580  \n",
       "9998  171842.411855  \n",
       "9999  177685.627486  "
      ]
     },
     "execution_count": 28,
     "metadata": {},
     "output_type": "execute_result"
    }
   ],
   "source": [
    "train_df.tail()"
   ]
  },
  {
   "cell_type": "code",
   "execution_count": 29,
   "id": "finished-freedom",
   "metadata": {
    "execution": {
     "iopub.execute_input": "2021-05-20T16:51:01.658335Z",
     "iopub.status.busy": "2021-05-20T16:51:01.657658Z",
     "iopub.status.idle": "2021-05-20T16:51:01.660727Z",
     "shell.execute_reply": "2021-05-20T16:51:01.661253Z",
     "shell.execute_reply.started": "2021-05-20T16:47:51.730939Z"
    },
    "papermill": {
     "duration": 0.082927,
     "end_time": "2021-05-20T16:51:01.661436",
     "exception": false,
     "start_time": "2021-05-20T16:51:01.578509",
     "status": "completed"
    },
    "tags": []
   },
   "outputs": [
    {
     "data": {
      "text/plain": [
       "Id                 int64\n",
       "DistrictId         int64\n",
       "Rooms            float64\n",
       "Square           float64\n",
       "LifeSquare       float64\n",
       "KitchenSquare    float64\n",
       "Floor              int64\n",
       "HouseFloor       float64\n",
       "HouseYear          int64\n",
       "Ecology_1        float64\n",
       "Ecology_2         object\n",
       "Ecology_3         object\n",
       "Social_1           int64\n",
       "Social_2           int64\n",
       "Social_3           int64\n",
       "Healthcare_1     float64\n",
       "Helthcare_2        int64\n",
       "Shops_1            int64\n",
       "Shops_2           object\n",
       "Price            float64\n",
       "dtype: object"
      ]
     },
     "execution_count": 29,
     "metadata": {},
     "output_type": "execute_result"
    }
   ],
   "source": [
    "train_df.dtypes"
   ]
  },
  {
   "cell_type": "code",
   "execution_count": 30,
   "id": "stunning-divorce",
   "metadata": {
    "execution": {
     "iopub.execute_input": "2021-05-20T16:51:01.809676Z",
     "iopub.status.busy": "2021-05-20T16:51:01.808913Z",
     "iopub.status.idle": "2021-05-20T16:51:01.829931Z",
     "shell.execute_reply": "2021-05-20T16:51:01.830563Z",
     "shell.execute_reply.started": "2021-05-20T16:47:51.744081Z"
    },
    "papermill": {
     "duration": 0.096806,
     "end_time": "2021-05-20T16:51:01.830736",
     "exception": false,
     "start_time": "2021-05-20T16:51:01.733930",
     "status": "completed"
    },
    "tags": []
   },
   "outputs": [
    {
     "data": {
      "text/html": [
       "<div>\n",
       "<style scoped>\n",
       "    .dataframe tbody tr th:only-of-type {\n",
       "        vertical-align: middle;\n",
       "    }\n",
       "\n",
       "    .dataframe tbody tr th {\n",
       "        vertical-align: top;\n",
       "    }\n",
       "\n",
       "    .dataframe thead th {\n",
       "        text-align: right;\n",
       "    }\n",
       "</style>\n",
       "<table border=\"1\" class=\"dataframe\">\n",
       "  <thead>\n",
       "    <tr style=\"text-align: right;\">\n",
       "      <th></th>\n",
       "      <th>Id</th>\n",
       "      <th>DistrictId</th>\n",
       "      <th>Rooms</th>\n",
       "      <th>Square</th>\n",
       "      <th>LifeSquare</th>\n",
       "      <th>KitchenSquare</th>\n",
       "      <th>Floor</th>\n",
       "      <th>HouseFloor</th>\n",
       "      <th>HouseYear</th>\n",
       "      <th>Ecology_1</th>\n",
       "      <th>Ecology_2</th>\n",
       "      <th>Ecology_3</th>\n",
       "      <th>Social_1</th>\n",
       "      <th>Social_2</th>\n",
       "      <th>Social_3</th>\n",
       "      <th>Healthcare_1</th>\n",
       "      <th>Helthcare_2</th>\n",
       "      <th>Shops_1</th>\n",
       "      <th>Shops_2</th>\n",
       "    </tr>\n",
       "  </thead>\n",
       "  <tbody>\n",
       "    <tr>\n",
       "      <th>4995</th>\n",
       "      <td>10379</td>\n",
       "      <td>29</td>\n",
       "      <td>2.0</td>\n",
       "      <td>43.177521</td>\n",
       "      <td>30.339945</td>\n",
       "      <td>5.0</td>\n",
       "      <td>6</td>\n",
       "      <td>5.0</td>\n",
       "      <td>1962</td>\n",
       "      <td>0.069660</td>\n",
       "      <td>B</td>\n",
       "      <td>B</td>\n",
       "      <td>31</td>\n",
       "      <td>6119</td>\n",
       "      <td>4</td>\n",
       "      <td>NaN</td>\n",
       "      <td>1</td>\n",
       "      <td>2</td>\n",
       "      <td>B</td>\n",
       "    </tr>\n",
       "    <tr>\n",
       "      <th>4996</th>\n",
       "      <td>16138</td>\n",
       "      <td>38</td>\n",
       "      <td>3.0</td>\n",
       "      <td>93.698122</td>\n",
       "      <td>94.521465</td>\n",
       "      <td>10.0</td>\n",
       "      <td>21</td>\n",
       "      <td>27.0</td>\n",
       "      <td>2018</td>\n",
       "      <td>0.060753</td>\n",
       "      <td>B</td>\n",
       "      <td>B</td>\n",
       "      <td>15</td>\n",
       "      <td>2787</td>\n",
       "      <td>2</td>\n",
       "      <td>520.0</td>\n",
       "      <td>0</td>\n",
       "      <td>7</td>\n",
       "      <td>B</td>\n",
       "    </tr>\n",
       "    <tr>\n",
       "      <th>4997</th>\n",
       "      <td>3912</td>\n",
       "      <td>101</td>\n",
       "      <td>1.0</td>\n",
       "      <td>33.656723</td>\n",
       "      <td>19.003259</td>\n",
       "      <td>5.0</td>\n",
       "      <td>2</td>\n",
       "      <td>5.0</td>\n",
       "      <td>1966</td>\n",
       "      <td>0.038693</td>\n",
       "      <td>B</td>\n",
       "      <td>B</td>\n",
       "      <td>28</td>\n",
       "      <td>6533</td>\n",
       "      <td>1</td>\n",
       "      <td>1015.0</td>\n",
       "      <td>2</td>\n",
       "      <td>5</td>\n",
       "      <td>B</td>\n",
       "    </tr>\n",
       "    <tr>\n",
       "      <th>4998</th>\n",
       "      <td>5722</td>\n",
       "      <td>10</td>\n",
       "      <td>1.0</td>\n",
       "      <td>38.635155</td>\n",
       "      <td>20.976257</td>\n",
       "      <td>9.0</td>\n",
       "      <td>8</td>\n",
       "      <td>14.0</td>\n",
       "      <td>1970</td>\n",
       "      <td>0.089040</td>\n",
       "      <td>B</td>\n",
       "      <td>B</td>\n",
       "      <td>33</td>\n",
       "      <td>7976</td>\n",
       "      <td>5</td>\n",
       "      <td>NaN</td>\n",
       "      <td>0</td>\n",
       "      <td>11</td>\n",
       "      <td>B</td>\n",
       "    </tr>\n",
       "    <tr>\n",
       "      <th>4999</th>\n",
       "      <td>11004</td>\n",
       "      <td>21</td>\n",
       "      <td>2.0</td>\n",
       "      <td>67.122742</td>\n",
       "      <td>33.944344</td>\n",
       "      <td>13.0</td>\n",
       "      <td>9</td>\n",
       "      <td>17.0</td>\n",
       "      <td>2009</td>\n",
       "      <td>0.194489</td>\n",
       "      <td>B</td>\n",
       "      <td>B</td>\n",
       "      <td>47</td>\n",
       "      <td>8004</td>\n",
       "      <td>3</td>\n",
       "      <td>125.0</td>\n",
       "      <td>3</td>\n",
       "      <td>5</td>\n",
       "      <td>B</td>\n",
       "    </tr>\n",
       "  </tbody>\n",
       "</table>\n",
       "</div>"
      ],
      "text/plain": [
       "         Id  DistrictId  Rooms     Square  LifeSquare  KitchenSquare  Floor  \\\n",
       "4995  10379          29    2.0  43.177521   30.339945            5.0      6   \n",
       "4996  16138          38    3.0  93.698122   94.521465           10.0     21   \n",
       "4997   3912         101    1.0  33.656723   19.003259            5.0      2   \n",
       "4998   5722          10    1.0  38.635155   20.976257            9.0      8   \n",
       "4999  11004          21    2.0  67.122742   33.944344           13.0      9   \n",
       "\n",
       "      HouseFloor  HouseYear  Ecology_1 Ecology_2 Ecology_3  Social_1  \\\n",
       "4995         5.0       1962   0.069660         B         B        31   \n",
       "4996        27.0       2018   0.060753         B         B        15   \n",
       "4997         5.0       1966   0.038693         B         B        28   \n",
       "4998        14.0       1970   0.089040         B         B        33   \n",
       "4999        17.0       2009   0.194489         B         B        47   \n",
       "\n",
       "      Social_2  Social_3  Healthcare_1  Helthcare_2  Shops_1 Shops_2  \n",
       "4995      6119         4           NaN            1        2       B  \n",
       "4996      2787         2         520.0            0        7       B  \n",
       "4997      6533         1        1015.0            2        5       B  \n",
       "4998      7976         5           NaN            0       11       B  \n",
       "4999      8004         3         125.0            3        5       B  "
      ]
     },
     "execution_count": 30,
     "metadata": {},
     "output_type": "execute_result"
    }
   ],
   "source": [
    "test_df.tail()"
   ]
  },
  {
   "cell_type": "code",
   "execution_count": 31,
   "id": "worst-organizer",
   "metadata": {
    "execution": {
     "iopub.execute_input": "2021-05-20T16:51:01.981140Z",
     "iopub.status.busy": "2021-05-20T16:51:01.980534Z",
     "iopub.status.idle": "2021-05-20T16:51:01.986706Z",
     "shell.execute_reply": "2021-05-20T16:51:01.987261Z",
     "shell.execute_reply.started": "2021-05-20T16:47:51.766974Z"
    },
    "papermill": {
     "duration": 0.083463,
     "end_time": "2021-05-20T16:51:01.987463",
     "exception": false,
     "start_time": "2021-05-20T16:51:01.904000",
     "status": "completed"
    },
    "tags": []
   },
   "outputs": [
    {
     "name": "stdout",
     "output_type": "stream",
     "text": [
      "Строк в трейне: 10000\n",
      "Строк в тесте 5000\n"
     ]
    }
   ],
   "source": [
    "print('Строк в трейне:', train_df.shape[0])\n",
    "print('Строк в тесте', test_df.shape[0])"
   ]
  },
  {
   "cell_type": "code",
   "execution_count": 32,
   "id": "amazing-happiness",
   "metadata": {
    "execution": {
     "iopub.execute_input": "2021-05-20T16:51:02.142814Z",
     "iopub.status.busy": "2021-05-20T16:51:02.142132Z",
     "iopub.status.idle": "2021-05-20T16:51:02.144770Z",
     "shell.execute_reply": "2021-05-20T16:51:02.145242Z",
     "shell.execute_reply.started": "2021-05-20T16:47:51.777153Z"
    },
    "papermill": {
     "duration": 0.083607,
     "end_time": "2021-05-20T16:51:02.145422",
     "exception": false,
     "start_time": "2021-05-20T16:51:02.061815",
     "status": "completed"
    },
    "tags": []
   },
   "outputs": [
    {
     "data": {
      "text/plain": [
       "True"
      ]
     },
     "execution_count": 32,
     "metadata": {},
     "output_type": "execute_result"
    }
   ],
   "source": [
    "train_df.shape[1] - 1 == test_df.shape[1]"
   ]
  },
  {
   "cell_type": "markdown",
   "id": "persistent-script",
   "metadata": {
    "papermill": {
     "duration": 0.073655,
     "end_time": "2021-05-20T16:51:02.293128",
     "exception": false,
     "start_time": "2021-05-20T16:51:02.219473",
     "status": "completed"
    },
    "tags": []
   },
   "source": [
    "# Просмотр и изучение данных"
   ]
  },
  {
   "cell_type": "code",
   "execution_count": 33,
   "id": "changed-advocacy",
   "metadata": {
    "execution": {
     "iopub.execute_input": "2021-05-20T16:51:02.444780Z",
     "iopub.status.busy": "2021-05-20T16:51:02.444141Z",
     "iopub.status.idle": "2021-05-20T16:51:02.736119Z",
     "shell.execute_reply": "2021-05-20T16:51:02.735249Z",
     "shell.execute_reply.started": "2021-05-20T16:47:51.788486Z"
    },
    "papermill": {
     "duration": 0.368824,
     "end_time": "2021-05-20T16:51:02.736267",
     "exception": false,
     "start_time": "2021-05-20T16:51:02.367443",
     "status": "completed"
    },
    "tags": []
   },
   "outputs": [
    {
     "data": {
      "image/png": "[encoded data removed]",
      "text/plain": [
       "<Figure size 1152x576 with 1 Axes>"
      ]
     },
     "metadata": {
      "needs_background": "light"
     },
     "output_type": "display_data"
    }
   ],
   "source": [
    "plt.figure(figsize = (16, 8))\n",
    "\n",
    "train_df['Price'].hist(bins=30)\n",
    "plt.ylabel('Count')\n",
    "plt.xlabel('Price')\n",
    "\n",
    "plt.title('Target distribution')\n",
    "plt.show()"
   ]
  },
  {
   "cell_type": "code",
   "execution_count": 34,
   "id": "palestinian-strap",
   "metadata": {
    "execution": {
     "iopub.execute_input": "2021-05-20T16:51:02.894461Z",
     "iopub.status.busy": "2021-05-20T16:51:02.893779Z",
     "iopub.status.idle": "2021-05-20T16:51:03.153508Z",
     "shell.execute_reply": "2021-05-20T16:51:03.152985Z",
     "shell.execute_reply.started": "2021-05-20T16:47:51.989849Z"
    },
    "papermill": {
     "duration": 0.342076,
     "end_time": "2021-05-20T16:51:03.153653",
     "exception": false,
     "start_time": "2021-05-20T16:51:02.811577",
     "status": "completed"
    },
    "tags": []
   },
   "outputs": [
    {
     "data": {
      "image/png": "[encoded data removed]",
      "text/plain": [
       "<Figure size 1152x576 with 1 Axes>"
      ]
     },
     "metadata": {
      "needs_background": "light"
     },
     "output_type": "display_data"
    }
   ],
   "source": [
    "correlation = train_df.corrwith(train_df['Price']).sort_values(ascending=False)\n",
    "correlation.drop('Price', inplace=True)\n",
    "\n",
    "plt.figure(figsize = (16, 8))\n",
    "plt.bar(correlation.index, correlation)\n",
    "plt.xticks(rotation='90')\n",
    "plt.xlabel('Features', fontsize=15)\n",
    "plt.ylabel('Correlation', fontsize=15)\n",
    "plt.title('Feature correlation', fontsize=15)\n",
    "plt.show()"
   ]
  },
  {
   "cell_type": "code",
   "execution_count": 35,
   "id": "athletic-stage",
   "metadata": {
    "execution": {
     "iopub.execute_input": "2021-05-20T16:51:03.315188Z",
     "iopub.status.busy": "2021-05-20T16:51:03.314388Z",
     "iopub.status.idle": "2021-05-20T16:51:03.496910Z",
     "shell.execute_reply": "2021-05-20T16:51:03.496309Z",
     "shell.execute_reply.started": "2021-05-20T16:47:52.211373Z"
    },
    "papermill": {
     "duration": 0.266951,
     "end_time": "2021-05-20T16:51:03.497061",
     "exception": false,
     "start_time": "2021-05-20T16:51:03.230110",
     "status": "completed"
    },
    "tags": []
   },
   "outputs": [
    {
     "data": {
      "text/html": [
       "<div>\n",
       "<style scoped>\n",
       "    .dataframe tbody tr th:only-of-type {\n",
       "        vertical-align: middle;\n",
       "    }\n",
       "\n",
       "    .dataframe tbody tr th {\n",
       "        vertical-align: top;\n",
       "    }\n",
       "\n",
       "    .dataframe thead th {\n",
       "        text-align: right;\n",
       "    }\n",
       "</style>\n",
       "<table border=\"1\" class=\"dataframe\">\n",
       "  <thead>\n",
       "    <tr style=\"text-align: right;\">\n",
       "      <th></th>\n",
       "      <th>Id</th>\n",
       "      <th>DistrictId</th>\n",
       "      <th>Rooms</th>\n",
       "      <th>Square</th>\n",
       "      <th>LifeSquare</th>\n",
       "      <th>KitchenSquare</th>\n",
       "      <th>Floor</th>\n",
       "      <th>HouseFloor</th>\n",
       "      <th>HouseYear</th>\n",
       "      <th>Ecology_1</th>\n",
       "      <th>Social_1</th>\n",
       "      <th>Social_2</th>\n",
       "      <th>Social_3</th>\n",
       "      <th>Healthcare_1</th>\n",
       "      <th>Helthcare_2</th>\n",
       "      <th>Shops_1</th>\n",
       "      <th>Price</th>\n",
       "    </tr>\n",
       "  </thead>\n",
       "  <tbody>\n",
       "    <tr>\n",
       "      <th>count</th>\n",
       "      <td>10000.00000</td>\n",
       "      <td>10000.000000</td>\n",
       "      <td>10000.000000</td>\n",
       "      <td>10000.000000</td>\n",
       "      <td>7887.000000</td>\n",
       "      <td>10000.000000</td>\n",
       "      <td>10000.000000</td>\n",
       "      <td>10000.000000</td>\n",
       "      <td>1.000000e+04</td>\n",
       "      <td>10000.000000</td>\n",
       "      <td>10000.000000</td>\n",
       "      <td>10000.000000</td>\n",
       "      <td>10000.000000</td>\n",
       "      <td>5202.000000</td>\n",
       "      <td>10000.000000</td>\n",
       "      <td>10000.000000</td>\n",
       "      <td>10000.000000</td>\n",
       "    </tr>\n",
       "    <tr>\n",
       "      <th>mean</th>\n",
       "      <td>8383.40770</td>\n",
       "      <td>50.400800</td>\n",
       "      <td>1.890500</td>\n",
       "      <td>56.315775</td>\n",
       "      <td>37.199645</td>\n",
       "      <td>6.273300</td>\n",
       "      <td>8.526700</td>\n",
       "      <td>12.609400</td>\n",
       "      <td>3.990166e+03</td>\n",
       "      <td>0.118858</td>\n",
       "      <td>24.687000</td>\n",
       "      <td>5352.157400</td>\n",
       "      <td>8.039200</td>\n",
       "      <td>1142.904460</td>\n",
       "      <td>1.319500</td>\n",
       "      <td>4.231300</td>\n",
       "      <td>214138.857399</td>\n",
       "    </tr>\n",
       "    <tr>\n",
       "      <th>std</th>\n",
       "      <td>4859.01902</td>\n",
       "      <td>43.587592</td>\n",
       "      <td>0.839512</td>\n",
       "      <td>21.058732</td>\n",
       "      <td>86.241209</td>\n",
       "      <td>28.560917</td>\n",
       "      <td>5.241148</td>\n",
       "      <td>6.775974</td>\n",
       "      <td>2.005003e+05</td>\n",
       "      <td>0.119025</td>\n",
       "      <td>17.532614</td>\n",
       "      <td>4006.799803</td>\n",
       "      <td>23.831875</td>\n",
       "      <td>1021.517264</td>\n",
       "      <td>1.493601</td>\n",
       "      <td>4.806341</td>\n",
       "      <td>92872.293865</td>\n",
       "    </tr>\n",
       "    <tr>\n",
       "      <th>min</th>\n",
       "      <td>0.00000</td>\n",
       "      <td>0.000000</td>\n",
       "      <td>0.000000</td>\n",
       "      <td>1.136859</td>\n",
       "      <td>0.370619</td>\n",
       "      <td>0.000000</td>\n",
       "      <td>1.000000</td>\n",
       "      <td>0.000000</td>\n",
       "      <td>1.910000e+03</td>\n",
       "      <td>0.000000</td>\n",
       "      <td>0.000000</td>\n",
       "      <td>168.000000</td>\n",
       "      <td>0.000000</td>\n",
       "      <td>0.000000</td>\n",
       "      <td>0.000000</td>\n",
       "      <td>0.000000</td>\n",
       "      <td>59174.778028</td>\n",
       "    </tr>\n",
       "    <tr>\n",
       "      <th>25%</th>\n",
       "      <td>4169.50000</td>\n",
       "      <td>20.000000</td>\n",
       "      <td>1.000000</td>\n",
       "      <td>41.774881</td>\n",
       "      <td>22.769832</td>\n",
       "      <td>1.000000</td>\n",
       "      <td>4.000000</td>\n",
       "      <td>9.000000</td>\n",
       "      <td>1.974000e+03</td>\n",
       "      <td>0.017647</td>\n",
       "      <td>6.000000</td>\n",
       "      <td>1564.000000</td>\n",
       "      <td>0.000000</td>\n",
       "      <td>350.000000</td>\n",
       "      <td>0.000000</td>\n",
       "      <td>1.000000</td>\n",
       "      <td>153872.633942</td>\n",
       "    </tr>\n",
       "    <tr>\n",
       "      <th>50%</th>\n",
       "      <td>8394.50000</td>\n",
       "      <td>36.000000</td>\n",
       "      <td>2.000000</td>\n",
       "      <td>52.513310</td>\n",
       "      <td>32.781260</td>\n",
       "      <td>6.000000</td>\n",
       "      <td>7.000000</td>\n",
       "      <td>13.000000</td>\n",
       "      <td>1.977000e+03</td>\n",
       "      <td>0.075424</td>\n",
       "      <td>25.000000</td>\n",
       "      <td>5285.000000</td>\n",
       "      <td>2.000000</td>\n",
       "      <td>900.000000</td>\n",
       "      <td>1.000000</td>\n",
       "      <td>3.000000</td>\n",
       "      <td>192269.644879</td>\n",
       "    </tr>\n",
       "    <tr>\n",
       "      <th>75%</th>\n",
       "      <td>12592.50000</td>\n",
       "      <td>75.000000</td>\n",
       "      <td>2.000000</td>\n",
       "      <td>65.900625</td>\n",
       "      <td>45.128803</td>\n",
       "      <td>9.000000</td>\n",
       "      <td>12.000000</td>\n",
       "      <td>17.000000</td>\n",
       "      <td>2.001000e+03</td>\n",
       "      <td>0.195781</td>\n",
       "      <td>36.000000</td>\n",
       "      <td>7227.000000</td>\n",
       "      <td>5.000000</td>\n",
       "      <td>1548.000000</td>\n",
       "      <td>2.000000</td>\n",
       "      <td>6.000000</td>\n",
       "      <td>249135.462171</td>\n",
       "    </tr>\n",
       "    <tr>\n",
       "      <th>max</th>\n",
       "      <td>16798.00000</td>\n",
       "      <td>209.000000</td>\n",
       "      <td>19.000000</td>\n",
       "      <td>641.065193</td>\n",
       "      <td>7480.592129</td>\n",
       "      <td>2014.000000</td>\n",
       "      <td>42.000000</td>\n",
       "      <td>117.000000</td>\n",
       "      <td>2.005201e+07</td>\n",
       "      <td>0.521867</td>\n",
       "      <td>74.000000</td>\n",
       "      <td>19083.000000</td>\n",
       "      <td>141.000000</td>\n",
       "      <td>4849.000000</td>\n",
       "      <td>6.000000</td>\n",
       "      <td>23.000000</td>\n",
       "      <td>633233.466570</td>\n",
       "    </tr>\n",
       "  </tbody>\n",
       "</table>\n",
       "</div>"
      ],
      "text/plain": [
       "                Id    DistrictId         Rooms        Square   LifeSquare  \\\n",
       "count  10000.00000  10000.000000  10000.000000  10000.000000  7887.000000   \n",
       "mean    8383.40770     50.400800      1.890500     56.315775    37.199645   \n",
       "std     4859.01902     43.587592      0.839512     21.058732    86.241209   \n",
       "min        0.00000      0.000000      0.000000      1.136859     0.370619   \n",
       "25%     4169.50000     20.000000      1.000000     41.774881    22.769832   \n",
       "50%     8394.50000     36.000000      2.000000     52.513310    32.781260   \n",
       "75%    12592.50000     75.000000      2.000000     65.900625    45.128803   \n",
       "max    16798.00000    209.000000     19.000000    641.065193  7480.592129   \n",
       "\n",
       "       KitchenSquare         Floor    HouseFloor     HouseYear     Ecology_1  \\\n",
       "count   10000.000000  10000.000000  10000.000000  1.000000e+04  10000.000000   \n",
       "mean        6.273300      8.526700     12.609400  3.990166e+03      0.118858   \n",
       "std        28.560917      5.241148      6.775974  2.005003e+05      0.119025   \n",
       "min         0.000000      1.000000      0.000000  1.910000e+03      0.000000   \n",
       "25%         1.000000      4.000000      9.000000  1.974000e+03      0.017647   \n",
       "50%         6.000000      7.000000     13.000000  1.977000e+03      0.075424   \n",
       "75%         9.000000     12.000000     17.000000  2.001000e+03      0.195781   \n",
       "max      2014.000000     42.000000    117.000000  2.005201e+07      0.521867   \n",
       "\n",
       "           Social_1      Social_2      Social_3  Healthcare_1   Helthcare_2  \\\n",
       "count  10000.000000  10000.000000  10000.000000   5202.000000  10000.000000   \n",
       "mean      24.687000   5352.157400      8.039200   1142.904460      1.319500   \n",
       "std       17.532614   4006.799803     23.831875   1021.517264      1.493601   \n",
       "min        0.000000    168.000000      0.000000      0.000000      0.000000   \n",
       "25%        6.000000   1564.000000      0.000000    350.000000      0.000000   \n",
       "50%       25.000000   5285.000000      2.000000    900.000000      1.000000   \n",
       "75%       36.000000   7227.000000      5.000000   1548.000000      2.000000   \n",
       "max       74.000000  19083.000000    141.000000   4849.000000      6.000000   \n",
       "\n",
       "            Shops_1          Price  \n",
       "count  10000.000000   10000.000000  \n",
       "mean       4.231300  214138.857399  \n",
       "std        4.806341   92872.293865  \n",
       "min        0.000000   59174.778028  \n",
       "25%        1.000000  153872.633942  \n",
       "50%        3.000000  192269.644879  \n",
       "75%        6.000000  249135.462171  \n",
       "max       23.000000  633233.466570  "
      ]
     },
     "execution_count": 35,
     "metadata": {},
     "output_type": "execute_result"
    }
   ],
   "source": [
    "train_df.describe()"
   ]
  },
  {
   "cell_type": "code",
   "execution_count": 36,
   "id": "warming-journal",
   "metadata": {
    "execution": {
     "iopub.execute_input": "2021-05-20T16:51:03.662413Z",
     "iopub.status.busy": "2021-05-20T16:51:03.661387Z",
     "iopub.status.idle": "2021-05-20T16:51:03.665916Z",
     "shell.execute_reply": "2021-05-20T16:51:03.666385Z",
     "shell.execute_reply.started": "2021-05-20T16:47:52.275927Z"
    },
    "papermill": {
     "duration": 0.09092,
     "end_time": "2021-05-20T16:51:03.666561",
     "exception": false,
     "start_time": "2021-05-20T16:51:03.575641",
     "status": "completed"
    },
    "tags": []
   },
   "outputs": [
    {
     "data": {
      "text/plain": [
       "['Ecology_2', 'Ecology_3', 'Shops_2']"
      ]
     },
     "execution_count": 36,
     "metadata": {},
     "output_type": "execute_result"
    }
   ],
   "source": [
    "train_df.select_dtypes(include='object').columns.tolist()"
   ]
  },
  {
   "cell_type": "code",
   "execution_count": 37,
   "id": "fabulous-attack",
   "metadata": {
    "execution": {
     "iopub.execute_input": "2021-05-20T16:51:03.831872Z",
     "iopub.status.busy": "2021-05-20T16:51:03.828658Z",
     "iopub.status.idle": "2021-05-20T16:51:03.836346Z",
     "shell.execute_reply": "2021-05-20T16:51:03.835720Z",
     "shell.execute_reply.started": "2021-05-20T16:47:52.286397Z"
    },
    "papermill": {
     "duration": 0.091447,
     "end_time": "2021-05-20T16:51:03.836482",
     "exception": false,
     "start_time": "2021-05-20T16:51:03.745035",
     "status": "completed"
    },
    "tags": []
   },
   "outputs": [
    {
     "data": {
      "text/plain": [
       "27     851\n",
       "1      652\n",
       "23     565\n",
       "6      511\n",
       "9      294\n",
       "      ... \n",
       "199      1\n",
       "117      1\n",
       "207      1\n",
       "209      1\n",
       "174      1\n",
       "Name: DistrictId, Length: 205, dtype: int64"
      ]
     },
     "execution_count": 37,
     "metadata": {},
     "output_type": "execute_result"
    }
   ],
   "source": [
    "train_df['DistrictId'].value_counts()"
   ]
  },
  {
   "cell_type": "code",
   "execution_count": 38,
   "id": "annual-broadcasting",
   "metadata": {
    "execution": {
     "iopub.execute_input": "2021-05-20T16:51:04.000694Z",
     "iopub.status.busy": "2021-05-20T16:51:03.999694Z",
     "iopub.status.idle": "2021-05-20T16:51:04.006254Z",
     "shell.execute_reply": "2021-05-20T16:51:04.005720Z",
     "shell.execute_reply.started": "2021-05-20T16:47:52.299396Z"
    },
    "papermill": {
     "duration": 0.091404,
     "end_time": "2021-05-20T16:51:04.006416",
     "exception": false,
     "start_time": "2021-05-20T16:51:03.915012",
     "status": "completed"
    },
    "tags": []
   },
   "outputs": [
    {
     "data": {
      "text/plain": [
       "B    9903\n",
       "A      97\n",
       "Name: Ecology_2, dtype: int64"
      ]
     },
     "execution_count": 38,
     "metadata": {},
     "output_type": "execute_result"
    }
   ],
   "source": [
    "train_df['Ecology_2'].value_counts()"
   ]
  },
  {
   "cell_type": "code",
   "execution_count": 39,
   "id": "provincial-slide",
   "metadata": {
    "execution": {
     "iopub.execute_input": "2021-05-20T16:51:04.167261Z",
     "iopub.status.busy": "2021-05-20T16:51:04.166638Z",
     "iopub.status.idle": "2021-05-20T16:51:04.175004Z",
     "shell.execute_reply": "2021-05-20T16:51:04.175454Z",
     "shell.execute_reply.started": "2021-05-20T16:47:52.313640Z"
    },
    "papermill": {
     "duration": 0.090133,
     "end_time": "2021-05-20T16:51:04.175624",
     "exception": false,
     "start_time": "2021-05-20T16:51:04.085491",
     "status": "completed"
    },
    "tags": []
   },
   "outputs": [
    {
     "data": {
      "text/plain": [
       "B    9725\n",
       "A     275\n",
       "Name: Ecology_3, dtype: int64"
      ]
     },
     "execution_count": 39,
     "metadata": {},
     "output_type": "execute_result"
    }
   ],
   "source": [
    "train_df['Ecology_3'].value_counts()"
   ]
  },
  {
   "cell_type": "code",
   "execution_count": 40,
   "id": "noted-referral",
   "metadata": {
    "execution": {
     "iopub.execute_input": "2021-05-20T16:51:04.335191Z",
     "iopub.status.busy": "2021-05-20T16:51:04.334548Z",
     "iopub.status.idle": "2021-05-20T16:51:04.343140Z",
     "shell.execute_reply": "2021-05-20T16:51:04.343691Z",
     "shell.execute_reply.started": "2021-05-20T16:47:52.326338Z"
    },
    "papermill": {
     "duration": 0.090118,
     "end_time": "2021-05-20T16:51:04.343866",
     "exception": false,
     "start_time": "2021-05-20T16:51:04.253748",
     "status": "completed"
    },
    "tags": []
   },
   "outputs": [
    {
     "data": {
      "text/plain": [
       "B    9175\n",
       "A     825\n",
       "Name: Shops_2, dtype: int64"
      ]
     },
     "execution_count": 40,
     "metadata": {},
     "output_type": "execute_result"
    }
   ],
   "source": [
    "train_df['Shops_2'].value_counts()"
   ]
  },
  {
   "cell_type": "markdown",
   "id": "empty-limitation",
   "metadata": {
    "papermill": {
     "duration": 0.077947,
     "end_time": "2021-05-20T16:51:04.501446",
     "exception": false,
     "start_time": "2021-05-20T16:51:04.423499",
     "status": "completed"
    },
    "tags": []
   },
   "source": [
    "# Обработка выбросов"
   ]
  },
  {
   "cell_type": "markdown",
   "id": "experimental-reverse",
   "metadata": {
    "papermill": {
     "duration": 0.077959,
     "end_time": "2021-05-20T16:51:04.657962",
     "exception": false,
     "start_time": "2021-05-20T16:51:04.580003",
     "status": "completed"
    },
    "tags": []
   },
   "source": [
    "### Rooms"
   ]
  },
  {
   "cell_type": "code",
   "execution_count": 41,
   "id": "rocky-square",
   "metadata": {
    "execution": {
     "iopub.execute_input": "2021-05-20T16:51:04.818061Z",
     "iopub.status.busy": "2021-05-20T16:51:04.817435Z",
     "iopub.status.idle": "2021-05-20T16:51:04.825740Z",
     "shell.execute_reply": "2021-05-20T16:51:04.825202Z",
     "shell.execute_reply.started": "2021-05-20T16:47:52.337048Z"
    },
    "papermill": {
     "duration": 0.089582,
     "end_time": "2021-05-20T16:51:04.825886",
     "exception": false,
     "start_time": "2021-05-20T16:51:04.736304",
     "status": "completed"
    },
    "tags": []
   },
   "outputs": [
    {
     "data": {
      "text/plain": [
       "2.0     3880\n",
       "1.0     3705\n",
       "3.0     2235\n",
       "4.0      150\n",
       "5.0       18\n",
       "0.0        8\n",
       "10.0       2\n",
       "19.0       1\n",
       "6.0        1\n",
       "Name: Rooms, dtype: int64"
      ]
     },
     "execution_count": 41,
     "metadata": {},
     "output_type": "execute_result"
    }
   ],
   "source": [
    "train_df['Rooms'].value_counts()"
   ]
  },
  {
   "cell_type": "code",
   "execution_count": 42,
   "id": "outside-cutting",
   "metadata": {
    "execution": {
     "iopub.execute_input": "2021-05-20T16:51:04.992084Z",
     "iopub.status.busy": "2021-05-20T16:51:04.991471Z",
     "iopub.status.idle": "2021-05-20T16:51:05.037917Z",
     "shell.execute_reply": "2021-05-20T16:51:05.038532Z",
     "shell.execute_reply.started": "2021-05-20T16:47:52.348635Z"
    },
    "papermill": {
     "duration": 0.13231,
     "end_time": "2021-05-20T16:51:05.038718",
     "exception": false,
     "start_time": "2021-05-20T16:51:04.906408",
     "status": "completed"
    },
    "tags": []
   },
   "outputs": [
    {
     "data": {
      "text/html": [
       "<div>\n",
       "<style scoped>\n",
       "    .dataframe tbody tr th:only-of-type {\n",
       "        vertical-align: middle;\n",
       "    }\n",
       "\n",
       "    .dataframe tbody tr th {\n",
       "        vertical-align: top;\n",
       "    }\n",
       "\n",
       "    .dataframe thead th {\n",
       "        text-align: right;\n",
       "    }\n",
       "</style>\n",
       "<table border=\"1\" class=\"dataframe\">\n",
       "  <thead>\n",
       "    <tr style=\"text-align: right;\">\n",
       "      <th></th>\n",
       "      <th>Id</th>\n",
       "      <th>DistrictId</th>\n",
       "      <th>Rooms</th>\n",
       "      <th>Square</th>\n",
       "      <th>LifeSquare</th>\n",
       "      <th>KitchenSquare</th>\n",
       "      <th>Floor</th>\n",
       "      <th>HouseFloor</th>\n",
       "      <th>HouseYear</th>\n",
       "      <th>Ecology_1</th>\n",
       "      <th>...</th>\n",
       "      <th>Ecology_3</th>\n",
       "      <th>Social_1</th>\n",
       "      <th>Social_2</th>\n",
       "      <th>Social_3</th>\n",
       "      <th>Healthcare_1</th>\n",
       "      <th>Helthcare_2</th>\n",
       "      <th>Shops_1</th>\n",
       "      <th>Shops_2</th>\n",
       "      <th>Price</th>\n",
       "      <th>Rooms_outlier</th>\n",
       "    </tr>\n",
       "  </thead>\n",
       "  <tbody>\n",
       "    <tr>\n",
       "      <th>0</th>\n",
       "      <td>11809</td>\n",
       "      <td>27</td>\n",
       "      <td>3.0</td>\n",
       "      <td>115.027311</td>\n",
       "      <td>NaN</td>\n",
       "      <td>10.0</td>\n",
       "      <td>4</td>\n",
       "      <td>10.0</td>\n",
       "      <td>2014</td>\n",
       "      <td>0.075424</td>\n",
       "      <td>...</td>\n",
       "      <td>B</td>\n",
       "      <td>11</td>\n",
       "      <td>3097</td>\n",
       "      <td>0</td>\n",
       "      <td>NaN</td>\n",
       "      <td>0</td>\n",
       "      <td>0</td>\n",
       "      <td>B</td>\n",
       "      <td>305018.871089</td>\n",
       "      <td>0</td>\n",
       "    </tr>\n",
       "    <tr>\n",
       "      <th>1</th>\n",
       "      <td>3013</td>\n",
       "      <td>22</td>\n",
       "      <td>1.0</td>\n",
       "      <td>39.832524</td>\n",
       "      <td>23.169223</td>\n",
       "      <td>8.0</td>\n",
       "      <td>7</td>\n",
       "      <td>8.0</td>\n",
       "      <td>1966</td>\n",
       "      <td>0.118537</td>\n",
       "      <td>...</td>\n",
       "      <td>B</td>\n",
       "      <td>30</td>\n",
       "      <td>6207</td>\n",
       "      <td>1</td>\n",
       "      <td>1183.0</td>\n",
       "      <td>1</td>\n",
       "      <td>0</td>\n",
       "      <td>B</td>\n",
       "      <td>177734.553407</td>\n",
       "      <td>0</td>\n",
       "    </tr>\n",
       "    <tr>\n",
       "      <th>2</th>\n",
       "      <td>8215</td>\n",
       "      <td>1</td>\n",
       "      <td>3.0</td>\n",
       "      <td>78.342215</td>\n",
       "      <td>47.671972</td>\n",
       "      <td>10.0</td>\n",
       "      <td>2</td>\n",
       "      <td>17.0</td>\n",
       "      <td>1988</td>\n",
       "      <td>0.025609</td>\n",
       "      <td>...</td>\n",
       "      <td>B</td>\n",
       "      <td>33</td>\n",
       "      <td>5261</td>\n",
       "      <td>0</td>\n",
       "      <td>240.0</td>\n",
       "      <td>3</td>\n",
       "      <td>1</td>\n",
       "      <td>B</td>\n",
       "      <td>282078.720850</td>\n",
       "      <td>0</td>\n",
       "    </tr>\n",
       "    <tr>\n",
       "      <th>3</th>\n",
       "      <td>2352</td>\n",
       "      <td>1</td>\n",
       "      <td>1.0</td>\n",
       "      <td>40.409907</td>\n",
       "      <td>NaN</td>\n",
       "      <td>1.0</td>\n",
       "      <td>10</td>\n",
       "      <td>22.0</td>\n",
       "      <td>1977</td>\n",
       "      <td>0.007122</td>\n",
       "      <td>...</td>\n",
       "      <td>B</td>\n",
       "      <td>1</td>\n",
       "      <td>264</td>\n",
       "      <td>0</td>\n",
       "      <td>NaN</td>\n",
       "      <td>0</td>\n",
       "      <td>1</td>\n",
       "      <td>B</td>\n",
       "      <td>168106.007630</td>\n",
       "      <td>0</td>\n",
       "    </tr>\n",
       "    <tr>\n",
       "      <th>4</th>\n",
       "      <td>13866</td>\n",
       "      <td>94</td>\n",
       "      <td>2.0</td>\n",
       "      <td>64.285067</td>\n",
       "      <td>38.562517</td>\n",
       "      <td>9.0</td>\n",
       "      <td>16</td>\n",
       "      <td>16.0</td>\n",
       "      <td>1972</td>\n",
       "      <td>0.282798</td>\n",
       "      <td>...</td>\n",
       "      <td>B</td>\n",
       "      <td>33</td>\n",
       "      <td>8667</td>\n",
       "      <td>2</td>\n",
       "      <td>NaN</td>\n",
       "      <td>0</td>\n",
       "      <td>6</td>\n",
       "      <td>B</td>\n",
       "      <td>343995.102962</td>\n",
       "      <td>0</td>\n",
       "    </tr>\n",
       "  </tbody>\n",
       "</table>\n",
       "<p>5 rows × 21 columns</p>\n",
       "</div>"
      ],
      "text/plain": [
       "      Id  DistrictId  Rooms      Square  LifeSquare  KitchenSquare  Floor  \\\n",
       "0  11809          27    3.0  115.027311         NaN           10.0      4   \n",
       "1   3013          22    1.0   39.832524   23.169223            8.0      7   \n",
       "2   8215           1    3.0   78.342215   47.671972           10.0      2   \n",
       "3   2352           1    1.0   40.409907         NaN            1.0     10   \n",
       "4  13866          94    2.0   64.285067   38.562517            9.0     16   \n",
       "\n",
       "   HouseFloor  HouseYear  Ecology_1  ... Ecology_3 Social_1  Social_2  \\\n",
       "0        10.0       2014   0.075424  ...         B       11      3097   \n",
       "1         8.0       1966   0.118537  ...         B       30      6207   \n",
       "2        17.0       1988   0.025609  ...         B       33      5261   \n",
       "3        22.0       1977   0.007122  ...         B        1       264   \n",
       "4        16.0       1972   0.282798  ...         B       33      8667   \n",
       "\n",
       "   Social_3  Healthcare_1  Helthcare_2  Shops_1  Shops_2          Price  \\\n",
       "0         0           NaN            0        0        B  305018.871089   \n",
       "1         1        1183.0            1        0        B  177734.553407   \n",
       "2         0         240.0            3        1        B  282078.720850   \n",
       "3         0           NaN            0        1        B  168106.007630   \n",
       "4         2           NaN            0        6        B  343995.102962   \n",
       "\n",
       "   Rooms_outlier  \n",
       "0              0  \n",
       "1              0  \n",
       "2              0  \n",
       "3              0  \n",
       "4              0  \n",
       "\n",
       "[5 rows x 21 columns]"
      ]
     },
     "execution_count": 42,
     "metadata": {},
     "output_type": "execute_result"
    }
   ],
   "source": [
    "train_df['Rooms_outlier'] = 0\n",
    "train_df.loc[(train_df['Rooms'] == 0) | (train_df['Rooms'] >= 6), 'Rooms_outlier'] = 1\n",
    "train_df.head()"
   ]
  },
  {
   "cell_type": "code",
   "execution_count": 43,
   "id": "romance-strength",
   "metadata": {
    "execution": {
     "iopub.execute_input": "2021-05-20T16:51:05.200689Z",
     "iopub.status.busy": "2021-05-20T16:51:05.200064Z",
     "iopub.status.idle": "2021-05-20T16:51:05.206268Z",
     "shell.execute_reply": "2021-05-20T16:51:05.206809Z",
     "shell.execute_reply.started": "2021-05-20T16:47:52.382591Z"
    },
    "papermill": {
     "duration": 0.088363,
     "end_time": "2021-05-20T16:51:05.206986",
     "exception": false,
     "start_time": "2021-05-20T16:51:05.118623",
     "status": "completed"
    },
    "tags": []
   },
   "outputs": [],
   "source": [
    "train_df.loc[train_df['Rooms'] == 0, 'Rooms'] = 1\n",
    "train_df.loc[train_df['Rooms'] >= 6, 'Rooms'] = 5"
   ]
  },
  {
   "cell_type": "code",
   "execution_count": 44,
   "id": "renewable-context",
   "metadata": {
    "execution": {
     "iopub.execute_input": "2021-05-20T16:51:05.368723Z",
     "iopub.status.busy": "2021-05-20T16:51:05.368103Z",
     "iopub.status.idle": "2021-05-20T16:51:05.375161Z",
     "shell.execute_reply": "2021-05-20T16:51:05.375678Z",
     "shell.execute_reply.started": "2021-05-20T16:47:52.390737Z"
    },
    "papermill": {
     "duration": 0.089353,
     "end_time": "2021-05-20T16:51:05.375864",
     "exception": false,
     "start_time": "2021-05-20T16:51:05.286511",
     "status": "completed"
    },
    "tags": []
   },
   "outputs": [
    {
     "data": {
      "text/plain": [
       "2.0    3880\n",
       "1.0    3713\n",
       "3.0    2235\n",
       "4.0     150\n",
       "5.0      22\n",
       "Name: Rooms, dtype: int64"
      ]
     },
     "execution_count": 44,
     "metadata": {},
     "output_type": "execute_result"
    }
   ],
   "source": [
    "train_df['Rooms'].value_counts()"
   ]
  },
  {
   "cell_type": "code",
   "execution_count": 45,
   "id": "velvet-membrane",
   "metadata": {
    "execution": {
     "iopub.execute_input": "2021-05-20T16:51:05.538692Z",
     "iopub.status.busy": "2021-05-20T16:51:05.538065Z",
     "iopub.status.idle": "2021-05-20T16:51:05.546057Z",
     "shell.execute_reply": "2021-05-20T16:51:05.546623Z",
     "shell.execute_reply.started": "2021-05-20T16:47:52.403116Z"
    },
    "papermill": {
     "duration": 0.090724,
     "end_time": "2021-05-20T16:51:05.546794",
     "exception": false,
     "start_time": "2021-05-20T16:51:05.456070",
     "status": "completed"
    },
    "tags": []
   },
   "outputs": [
    {
     "data": {
      "text/plain": [
       "115.027311    1\n",
       "34.544550     1\n",
       "34.589294     1\n",
       "48.611413     1\n",
       "62.010311     1\n",
       "             ..\n",
       "63.952771     1\n",
       "39.010427     1\n",
       "66.681968     1\n",
       "72.683847     1\n",
       "35.815476     1\n",
       "Name: Square, Length: 10000, dtype: int64"
      ]
     },
     "execution_count": 45,
     "metadata": {},
     "output_type": "execute_result"
    }
   ],
   "source": [
    "train_df['Square'].value_counts()"
   ]
  },
  {
   "cell_type": "code",
   "execution_count": 46,
   "id": "official-workstation",
   "metadata": {
    "execution": {
     "iopub.execute_input": "2021-05-20T16:51:05.710086Z",
     "iopub.status.busy": "2021-05-20T16:51:05.709462Z",
     "iopub.status.idle": "2021-05-20T16:51:05.718500Z",
     "shell.execute_reply": "2021-05-20T16:51:05.717982Z",
     "shell.execute_reply.started": "2021-05-20T16:47:52.416478Z"
    },
    "papermill": {
     "duration": 0.091808,
     "end_time": "2021-05-20T16:51:05.718650",
     "exception": false,
     "start_time": "2021-05-20T16:51:05.626842",
     "status": "completed"
    },
    "tags": []
   },
   "outputs": [
    {
     "data": {
      "text/plain": [
       "23.169223    1\n",
       "38.833322    1\n",
       "17.739898    1\n",
       "46.740764    1\n",
       "13.446544    1\n",
       "            ..\n",
       "62.426932    1\n",
       "36.626949    1\n",
       "20.293857    1\n",
       "22.134412    1\n",
       "22.301367    1\n",
       "Name: LifeSquare, Length: 7887, dtype: int64"
      ]
     },
     "execution_count": 46,
     "metadata": {},
     "output_type": "execute_result"
    }
   ],
   "source": [
    "train_df['LifeSquare'].value_counts()"
   ]
  },
  {
   "cell_type": "markdown",
   "id": "personalized-fairy",
   "metadata": {
    "papermill": {
     "duration": 0.080021,
     "end_time": "2021-05-20T16:51:05.879526",
     "exception": false,
     "start_time": "2021-05-20T16:51:05.799505",
     "status": "completed"
    },
    "tags": []
   },
   "source": [
    "### Square, LifeSquare"
   ]
  },
  {
   "cell_type": "code",
   "execution_count": 47,
   "id": "conditional-samoa",
   "metadata": {
    "execution": {
     "iopub.execute_input": "2021-05-20T16:51:06.046700Z",
     "iopub.status.busy": "2021-05-20T16:51:06.046016Z",
     "iopub.status.idle": "2021-05-20T16:51:06.053010Z",
     "shell.execute_reply": "2021-05-20T16:51:06.052336Z",
     "shell.execute_reply.started": "2021-05-20T16:47:52.425450Z"
    },
    "papermill": {
     "duration": 0.09217,
     "end_time": "2021-05-20T16:51:06.053153",
     "exception": false,
     "start_time": "2021-05-20T16:51:05.960983",
     "status": "completed"
    },
    "tags": []
   },
   "outputs": [
    {
     "data": {
      "text/plain": [
       "False    9518\n",
       "True      482\n",
       "dtype: int64"
      ]
     },
     "execution_count": 47,
     "metadata": {},
     "output_type": "execute_result"
    }
   ],
   "source": [
    "(train_df['Square'] < train_df['LifeSquare']).value_counts()"
   ]
  },
  {
   "cell_type": "code",
   "execution_count": 48,
   "id": "excessive-premises",
   "metadata": {
    "execution": {
     "iopub.execute_input": "2021-05-20T16:51:06.223196Z",
     "iopub.status.busy": "2021-05-20T16:51:06.222340Z",
     "iopub.status.idle": "2021-05-20T16:51:06.226114Z",
     "shell.execute_reply": "2021-05-20T16:51:06.225504Z",
     "shell.execute_reply.started": "2021-05-20T16:47:52.435477Z"
    },
    "papermill": {
     "duration": 0.091006,
     "end_time": "2021-05-20T16:51:06.226252",
     "exception": false,
     "start_time": "2021-05-20T16:51:06.135246",
     "status": "completed"
    },
    "tags": []
   },
   "outputs": [],
   "source": [
    "train_df['Square'], train_df['LifeSquare'] = np.where(train_df['Square'] < train_df['LifeSquare'],(train_df['LifeSquare'],train_df['Square']), (train_df['Square'],train_df['LifeSquare']))"
   ]
  },
  {
   "cell_type": "code",
   "execution_count": 49,
   "id": "pointed-oregon",
   "metadata": {
    "execution": {
     "iopub.execute_input": "2021-05-20T16:51:06.396658Z",
     "iopub.status.busy": "2021-05-20T16:51:06.395789Z",
     "iopub.status.idle": "2021-05-20T16:51:06.399505Z",
     "shell.execute_reply": "2021-05-20T16:51:06.399997Z",
     "shell.execute_reply.started": "2021-05-20T16:47:52.445508Z"
    },
    "papermill": {
     "duration": 0.092901,
     "end_time": "2021-05-20T16:51:06.400170",
     "exception": false,
     "start_time": "2021-05-20T16:51:06.307269",
     "status": "completed"
    },
    "tags": []
   },
   "outputs": [
    {
     "data": {
      "text/plain": [
       "False    10000\n",
       "dtype: int64"
      ]
     },
     "execution_count": 49,
     "metadata": {},
     "output_type": "execute_result"
    }
   ],
   "source": [
    "(train_df['Square'] < train_df['LifeSquare']).value_counts()"
   ]
  },
  {
   "cell_type": "markdown",
   "id": "aerial-attachment",
   "metadata": {
    "papermill": {
     "duration": 0.081149,
     "end_time": "2021-05-20T16:51:06.562157",
     "exception": false,
     "start_time": "2021-05-20T16:51:06.481008",
     "status": "completed"
    },
    "tags": []
   },
   "source": [
    "### KitchenSquare"
   ]
  },
  {
   "cell_type": "code",
   "execution_count": 50,
   "id": "verified-finance",
   "metadata": {
    "execution": {
     "iopub.execute_input": "2021-05-20T16:51:06.734604Z",
     "iopub.status.busy": "2021-05-20T16:51:06.729027Z",
     "iopub.status.idle": "2021-05-20T16:51:06.739467Z",
     "shell.execute_reply": "2021-05-20T16:51:06.738921Z",
     "shell.execute_reply.started": "2021-05-20T16:47:52.458009Z"
    },
    "papermill": {
     "duration": 0.09634,
     "end_time": "2021-05-20T16:51:06.739609",
     "exception": false,
     "start_time": "2021-05-20T16:51:06.643269",
     "status": "completed"
    },
    "tags": []
   },
   "outputs": [
    {
     "data": {
      "text/plain": [
       "1.0       2460\n",
       "8.0       1306\n",
       "5.0       1169\n",
       "10.0      1075\n",
       "6.0       1038\n",
       "9.0        843\n",
       "0.0        697\n",
       "7.0        609\n",
       "12.0       249\n",
       "11.0       233\n",
       "13.0        67\n",
       "14.0        51\n",
       "4.0         39\n",
       "15.0        31\n",
       "3.0         22\n",
       "16.0        16\n",
       "20.0        14\n",
       "17.0        12\n",
       "19.0        11\n",
       "18.0         6\n",
       "2.0          4\n",
       "22.0         3\n",
       "30.0         2\n",
       "43.0         2\n",
       "41.0         2\n",
       "112.0        2\n",
       "25.0         2\n",
       "51.0         2\n",
       "37.0         2\n",
       "58.0         2\n",
       "32.0         2\n",
       "21.0         1\n",
       "73.0         1\n",
       "75.0         1\n",
       "36.0         1\n",
       "27.0         1\n",
       "63.0         1\n",
       "1970.0       1\n",
       "54.0         1\n",
       "53.0         1\n",
       "60.0         1\n",
       "26.0         1\n",
       "66.0         1\n",
       "39.0         1\n",
       "29.0         1\n",
       "78.0         1\n",
       "31.0         1\n",
       "84.0         1\n",
       "48.0         1\n",
       "96.0         1\n",
       "42.0         1\n",
       "40.0         1\n",
       "23.0         1\n",
       "72.0         1\n",
       "35.0         1\n",
       "62.0         1\n",
       "123.0        1\n",
       "2014.0       1\n",
       "Name: KitchenSquare, dtype: int64"
      ]
     },
     "execution_count": 50,
     "metadata": {},
     "output_type": "execute_result"
    }
   ],
   "source": [
    "train_df['KitchenSquare'].value_counts()"
   ]
  },
  {
   "cell_type": "code",
   "execution_count": 51,
   "id": "attractive-nickel",
   "metadata": {
    "execution": {
     "iopub.execute_input": "2021-05-20T16:51:06.910709Z",
     "iopub.status.busy": "2021-05-20T16:51:06.908930Z",
     "iopub.status.idle": "2021-05-20T16:51:06.916032Z",
     "shell.execute_reply": "2021-05-20T16:51:06.915546Z",
     "shell.execute_reply.started": "2021-05-20T16:47:52.470755Z"
    },
    "papermill": {
     "duration": 0.093937,
     "end_time": "2021-05-20T16:51:06.916171",
     "exception": false,
     "start_time": "2021-05-20T16:51:06.822234",
     "status": "completed"
    },
    "tags": []
   },
   "outputs": [
    {
     "data": {
      "text/plain": [
       "(13.0, 0.0)"
      ]
     },
     "execution_count": 51,
     "metadata": {},
     "output_type": "execute_result"
    }
   ],
   "source": [
    "train_df['KitchenSquare'].quantile(.975), train_df['KitchenSquare'].quantile(.025)"
   ]
  },
  {
   "cell_type": "code",
   "execution_count": 52,
   "id": "baking-greeting",
   "metadata": {
    "execution": {
     "iopub.execute_input": "2021-05-20T16:51:07.089951Z",
     "iopub.status.busy": "2021-05-20T16:51:07.087456Z",
     "iopub.status.idle": "2021-05-20T16:51:07.093705Z",
     "shell.execute_reply": "2021-05-20T16:51:07.093053Z",
     "shell.execute_reply.started": "2021-05-20T16:47:52.482452Z"
    },
    "papermill": {
     "duration": 0.095571,
     "end_time": "2021-05-20T16:51:07.093845",
     "exception": false,
     "start_time": "2021-05-20T16:51:06.998274",
     "status": "completed"
    },
    "tags": []
   },
   "outputs": [],
   "source": [
    "condition = (train_df['KitchenSquare'].isna()) \\\n",
    "             | (train_df['KitchenSquare'] > train_df['KitchenSquare'].quantile(.975))\n",
    "        \n",
    "train_df.loc[condition, 'KitchenSquare'] = train_df['KitchenSquare'].median()\n",
    "\n",
    "train_df.loc[train_df['KitchenSquare'] < 3, 'KitchenSquare'] = 3"
   ]
  },
  {
   "cell_type": "code",
   "execution_count": 53,
   "id": "automated-today",
   "metadata": {
    "execution": {
     "iopub.execute_input": "2021-05-20T16:51:07.265981Z",
     "iopub.status.busy": "2021-05-20T16:51:07.262743Z",
     "iopub.status.idle": "2021-05-20T16:51:07.270353Z",
     "shell.execute_reply": "2021-05-20T16:51:07.269829Z",
     "shell.execute_reply.started": "2021-05-20T16:47:52.493048Z"
    },
    "papermill": {
     "duration": 0.093968,
     "end_time": "2021-05-20T16:51:07.270506",
     "exception": false,
     "start_time": "2021-05-20T16:51:07.176538",
     "status": "completed"
    },
    "tags": []
   },
   "outputs": [
    {
     "data": {
      "text/plain": [
       "3.0     3183\n",
       "8.0     1306\n",
       "6.0     1227\n",
       "5.0     1169\n",
       "10.0    1075\n",
       "9.0      843\n",
       "7.0      609\n",
       "12.0     249\n",
       "11.0     233\n",
       "13.0      67\n",
       "4.0       39\n",
       "Name: KitchenSquare, dtype: int64"
      ]
     },
     "execution_count": 53,
     "metadata": {},
     "output_type": "execute_result"
    }
   ],
   "source": [
    "train_df['KitchenSquare'].value_counts()"
   ]
  },
  {
   "cell_type": "markdown",
   "id": "annoying-luther",
   "metadata": {
    "papermill": {
     "duration": 0.082775,
     "end_time": "2021-05-20T16:51:07.435931",
     "exception": false,
     "start_time": "2021-05-20T16:51:07.353156",
     "status": "completed"
    },
    "tags": []
   },
   "source": [
    "### HouseFloor, Floor"
   ]
  },
  {
   "cell_type": "code",
   "execution_count": 54,
   "id": "united-creature",
   "metadata": {
    "execution": {
     "iopub.execute_input": "2021-05-20T16:51:07.605584Z",
     "iopub.status.busy": "2021-05-20T16:51:07.604950Z",
     "iopub.status.idle": "2021-05-20T16:51:07.613224Z",
     "shell.execute_reply": "2021-05-20T16:51:07.612605Z",
     "shell.execute_reply.started": "2021-05-20T16:47:52.510115Z"
    },
    "papermill": {
     "duration": 0.095262,
     "end_time": "2021-05-20T16:51:07.613396",
     "exception": false,
     "start_time": "2021-05-20T16:51:07.518134",
     "status": "completed"
    },
    "tags": []
   },
   "outputs": [
    {
     "data": {
      "text/plain": [
       "array([  0.,   1.,   2.,   3.,   4.,   5.,   6.,   7.,   8.,   9.,  10.,\n",
       "        11.,  12.,  13.,  14.,  15.,  16.,  17.,  18.,  19.,  20.,  21.,\n",
       "        22.,  23.,  24.,  25.,  26.,  27.,  28.,  29.,  30.,  31.,  32.,\n",
       "        36.,  37.,  38.,  39.,  40.,  44.,  45.,  47.,  48.,  99., 117.])"
      ]
     },
     "execution_count": 54,
     "metadata": {},
     "output_type": "execute_result"
    }
   ],
   "source": [
    "train_df['HouseFloor'].sort_values().unique()"
   ]
  },
  {
   "cell_type": "code",
   "execution_count": 55,
   "id": "blind-classic",
   "metadata": {
    "execution": {
     "iopub.execute_input": "2021-05-20T16:51:07.784472Z",
     "iopub.status.busy": "2021-05-20T16:51:07.783803Z",
     "iopub.status.idle": "2021-05-20T16:51:07.791681Z",
     "shell.execute_reply": "2021-05-20T16:51:07.791067Z",
     "shell.execute_reply.started": "2021-05-20T16:47:52.519409Z"
    },
    "papermill": {
     "duration": 0.094739,
     "end_time": "2021-05-20T16:51:07.791816",
     "exception": false,
     "start_time": "2021-05-20T16:51:07.697077",
     "status": "completed"
    },
    "tags": []
   },
   "outputs": [
    {
     "data": {
      "text/plain": [
       "array([ 1,  2,  3,  4,  5,  6,  7,  8,  9, 10, 11, 12, 13, 14, 15, 16, 17,\n",
       "       18, 19, 20, 21, 22, 23, 24, 25, 26, 27, 28, 31, 32, 33, 37, 42])"
      ]
     },
     "execution_count": 55,
     "metadata": {},
     "output_type": "execute_result"
    }
   ],
   "source": [
    "train_df['Floor'].sort_values().unique()"
   ]
  },
  {
   "cell_type": "code",
   "execution_count": 56,
   "id": "stopped-large",
   "metadata": {
    "execution": {
     "iopub.execute_input": "2021-05-20T16:51:07.964792Z",
     "iopub.status.busy": "2021-05-20T16:51:07.964114Z",
     "iopub.status.idle": "2021-05-20T16:51:07.968669Z",
     "shell.execute_reply": "2021-05-20T16:51:07.968137Z",
     "shell.execute_reply.started": "2021-05-20T16:47:52.527445Z"
    },
    "papermill": {
     "duration": 0.094173,
     "end_time": "2021-05-20T16:51:07.968807",
     "exception": false,
     "start_time": "2021-05-20T16:51:07.874634",
     "status": "completed"
    },
    "tags": []
   },
   "outputs": [
    {
     "data": {
      "text/plain": [
       "1825"
      ]
     },
     "execution_count": 56,
     "metadata": {},
     "output_type": "execute_result"
    }
   ],
   "source": [
    "(train_df['Floor'] > train_df['HouseFloor']).sum()"
   ]
  },
  {
   "cell_type": "code",
   "execution_count": 57,
   "id": "retained-administration",
   "metadata": {
    "execution": {
     "iopub.execute_input": "2021-05-20T16:51:08.147000Z",
     "iopub.status.busy": "2021-05-20T16:51:08.146141Z",
     "iopub.status.idle": "2021-05-20T16:51:08.149838Z",
     "shell.execute_reply": "2021-05-20T16:51:08.149223Z",
     "shell.execute_reply.started": "2021-05-20T16:47:52.536935Z"
    },
    "papermill": {
     "duration": 0.09768,
     "end_time": "2021-05-20T16:51:08.149985",
     "exception": false,
     "start_time": "2021-05-20T16:51:08.052305",
     "status": "completed"
    },
    "tags": []
   },
   "outputs": [],
   "source": [
    "train_df['HouseFloor_outlier'] = 0\n",
    "train_df.loc[train_df['HouseFloor'] == 0, 'HouseFloor_outlier'] = 1\n",
    "train_df.loc[train_df['Floor'] > train_df['HouseFloor'], 'HouseFloor_outlier'] = 1"
   ]
  },
  {
   "cell_type": "code",
   "execution_count": 58,
   "id": "outstanding-phenomenon",
   "metadata": {
    "execution": {
     "iopub.execute_input": "2021-05-20T16:51:08.323901Z",
     "iopub.status.busy": "2021-05-20T16:51:08.322923Z",
     "iopub.status.idle": "2021-05-20T16:51:08.326270Z",
     "shell.execute_reply": "2021-05-20T16:51:08.325670Z",
     "shell.execute_reply.started": "2021-05-20T16:47:52.548108Z"
    },
    "papermill": {
     "duration": 0.093204,
     "end_time": "2021-05-20T16:51:08.326439",
     "exception": false,
     "start_time": "2021-05-20T16:51:08.233235",
     "status": "completed"
    },
    "tags": []
   },
   "outputs": [],
   "source": [
    "train_df.loc[train_df['HouseFloor'] == 0, 'HouseFloor'] = 1"
   ]
  },
  {
   "cell_type": "code",
   "execution_count": 59,
   "id": "faced-elder",
   "metadata": {
    "execution": {
     "iopub.execute_input": "2021-05-20T16:51:08.499636Z",
     "iopub.status.busy": "2021-05-20T16:51:08.498990Z",
     "iopub.status.idle": "2021-05-20T16:51:08.506013Z",
     "shell.execute_reply": "2021-05-20T16:51:08.505341Z",
     "shell.execute_reply.started": "2021-05-20T16:47:52.556502Z"
    },
    "papermill": {
     "duration": 0.095238,
     "end_time": "2021-05-20T16:51:08.506148",
     "exception": false,
     "start_time": "2021-05-20T16:51:08.410910",
     "status": "completed"
    },
    "tags": []
   },
   "outputs": [
    {
     "data": {
      "text/plain": [
       "Int64Index([  17,   19,   21,   24,   25,   26,   33,   34,   37,   39,\n",
       "            ...\n",
       "            9931, 9938, 9940, 9950, 9953, 9960, 9968, 9970, 9975, 9996],\n",
       "           dtype='int64', length=1818)"
      ]
     },
     "execution_count": 59,
     "metadata": {},
     "output_type": "execute_result"
    }
   ],
   "source": [
    "floor_outliers = train_df.loc[train_df['Floor'] > train_df['HouseFloor']].index\n",
    "floor_outliers"
   ]
  },
  {
   "cell_type": "code",
   "execution_count": 60,
   "id": "handled-programming",
   "metadata": {
    "execution": {
     "iopub.execute_input": "2021-05-20T16:51:08.685847Z",
     "iopub.status.busy": "2021-05-20T16:51:08.679744Z",
     "iopub.status.idle": "2021-05-20T16:51:08.689805Z",
     "shell.execute_reply": "2021-05-20T16:51:08.689144Z",
     "shell.execute_reply.started": "2021-05-20T16:47:52.569613Z"
    },
    "papermill": {
     "duration": 0.098928,
     "end_time": "2021-05-20T16:51:08.689945",
     "exception": false,
     "start_time": "2021-05-20T16:51:08.591017",
     "status": "completed"
    },
    "tags": []
   },
   "outputs": [],
   "source": [
    "train_df.loc[floor_outliers, 'Floor'] = train_df.loc[floor_outliers, 'HouseFloor']\\\n",
    "                                                .apply(lambda x: random.randint(1, x))"
   ]
  },
  {
   "cell_type": "code",
   "execution_count": 61,
   "id": "structured-airline",
   "metadata": {
    "execution": {
     "iopub.execute_input": "2021-05-20T16:51:08.860462Z",
     "iopub.status.busy": "2021-05-20T16:51:08.859846Z",
     "iopub.status.idle": "2021-05-20T16:51:08.865883Z",
     "shell.execute_reply": "2021-05-20T16:51:08.866416Z",
     "shell.execute_reply.started": "2021-05-20T16:47:52.580171Z"
    },
    "papermill": {
     "duration": 0.092806,
     "end_time": "2021-05-20T16:51:08.866595",
     "exception": false,
     "start_time": "2021-05-20T16:51:08.773789",
     "status": "completed"
    },
    "tags": []
   },
   "outputs": [
    {
     "data": {
      "text/plain": [
       "0"
      ]
     },
     "execution_count": 61,
     "metadata": {},
     "output_type": "execute_result"
    }
   ],
   "source": [
    "(train_df['Floor'] > train_df['HouseFloor']).sum()"
   ]
  },
  {
   "cell_type": "markdown",
   "id": "desperate-exhibit",
   "metadata": {
    "papermill": {
     "duration": 0.08567,
     "end_time": "2021-05-20T16:51:09.036017",
     "exception": false,
     "start_time": "2021-05-20T16:51:08.950347",
     "status": "completed"
    },
    "tags": []
   },
   "source": [
    "### HouseYear"
   ]
  },
  {
   "cell_type": "code",
   "execution_count": 62,
   "id": "figured-occasion",
   "metadata": {
    "execution": {
     "iopub.execute_input": "2021-05-20T16:51:09.209690Z",
     "iopub.status.busy": "2021-05-20T16:51:09.209088Z",
     "iopub.status.idle": "2021-05-20T16:51:09.216609Z",
     "shell.execute_reply": "2021-05-20T16:51:09.217141Z",
     "shell.execute_reply.started": "2021-05-20T16:47:52.587679Z"
    },
    "papermill": {
     "duration": 0.094668,
     "end_time": "2021-05-20T16:51:09.217334",
     "exception": false,
     "start_time": "2021-05-20T16:51:09.122666",
     "status": "completed"
    },
    "tags": []
   },
   "outputs": [
    {
     "data": {
      "text/plain": [
       "9163    20052011\n",
       "8828        4968\n",
       "7721        2020\n",
       "9122        2020\n",
       "7955        2020\n",
       "          ...   \n",
       "7610        1916\n",
       "6250        1914\n",
       "2066        1912\n",
       "2795        1912\n",
       "6794        1910\n",
       "Name: HouseYear, Length: 10000, dtype: int64"
      ]
     },
     "execution_count": 62,
     "metadata": {},
     "output_type": "execute_result"
    }
   ],
   "source": [
    "train_df['HouseYear'].sort_values(ascending=False)"
   ]
  },
  {
   "cell_type": "code",
   "execution_count": 63,
   "id": "exact-architect",
   "metadata": {
    "execution": {
     "iopub.execute_input": "2021-05-20T16:51:09.389844Z",
     "iopub.status.busy": "2021-05-20T16:51:09.389198Z",
     "iopub.status.idle": "2021-05-20T16:51:09.395409Z",
     "shell.execute_reply": "2021-05-20T16:51:09.395904Z",
     "shell.execute_reply.started": "2021-05-20T16:47:52.598673Z"
    },
    "papermill": {
     "duration": 0.093587,
     "end_time": "2021-05-20T16:51:09.396078",
     "exception": false,
     "start_time": "2021-05-20T16:51:09.302491",
     "status": "completed"
    },
    "tags": []
   },
   "outputs": [],
   "source": [
    "train_df.loc[train_df['HouseYear'] > datetime.now().year, 'HouseYear'] = train_df['HouseYear'].median()"
   ]
  },
  {
   "cell_type": "code",
   "execution_count": 64,
   "id": "precious-replacement",
   "metadata": {
    "execution": {
     "iopub.execute_input": "2021-05-20T16:51:09.569490Z",
     "iopub.status.busy": "2021-05-20T16:51:09.568883Z",
     "iopub.status.idle": "2021-05-20T16:51:09.576935Z",
     "shell.execute_reply": "2021-05-20T16:51:09.577460Z",
     "shell.execute_reply.started": "2021-05-20T16:47:52.607200Z"
    },
    "papermill": {
     "duration": 0.095352,
     "end_time": "2021-05-20T16:51:09.577628",
     "exception": false,
     "start_time": "2021-05-20T16:51:09.482276",
     "status": "completed"
    },
    "tags": []
   },
   "outputs": [
    {
     "data": {
      "text/plain": [
       "1976    2020\n",
       "5412    2020\n",
       "7721    2020\n",
       "6073    2020\n",
       "9122    2020\n",
       "        ... \n",
       "7610    1916\n",
       "6250    1914\n",
       "2066    1912\n",
       "2795    1912\n",
       "6794    1910\n",
       "Name: HouseYear, Length: 10000, dtype: int64"
      ]
     },
     "execution_count": 64,
     "metadata": {},
     "output_type": "execute_result"
    }
   ],
   "source": [
    "train_df['HouseYear'].sort_values(ascending=False)"
   ]
  },
  {
   "cell_type": "markdown",
   "id": "moving-defensive",
   "metadata": {
    "papermill": {
     "duration": 0.084808,
     "end_time": "2021-05-20T16:51:09.747425",
     "exception": false,
     "start_time": "2021-05-20T16:51:09.662617",
     "status": "completed"
    },
    "tags": []
   },
   "source": [
    "# Обработка пропусков"
   ]
  },
  {
   "cell_type": "code",
   "execution_count": 65,
   "id": "strategic-column",
   "metadata": {
    "execution": {
     "iopub.execute_input": "2021-05-20T16:51:09.919629Z",
     "iopub.status.busy": "2021-05-20T16:51:09.919010Z",
     "iopub.status.idle": "2021-05-20T16:51:09.930236Z",
     "shell.execute_reply": "2021-05-20T16:51:09.930796Z",
     "shell.execute_reply.started": "2021-05-20T16:47:52.618054Z"
    },
    "papermill": {
     "duration": 0.099073,
     "end_time": "2021-05-20T16:51:09.930978",
     "exception": false,
     "start_time": "2021-05-20T16:51:09.831905",
     "status": "completed"
    },
    "tags": []
   },
   "outputs": [
    {
     "data": {
      "text/plain": [
       "Id                       0\n",
       "DistrictId               0\n",
       "Rooms                    0\n",
       "Square                   0\n",
       "LifeSquare            2113\n",
       "KitchenSquare            0\n",
       "Floor                    0\n",
       "HouseFloor               0\n",
       "HouseYear                0\n",
       "Ecology_1                0\n",
       "Ecology_2                0\n",
       "Ecology_3                0\n",
       "Social_1                 0\n",
       "Social_2                 0\n",
       "Social_3                 0\n",
       "Healthcare_1          4798\n",
       "Helthcare_2              0\n",
       "Shops_1                  0\n",
       "Shops_2                  0\n",
       "Price                    0\n",
       "Rooms_outlier            0\n",
       "HouseFloor_outlier       0\n",
       "dtype: int64"
      ]
     },
     "execution_count": 65,
     "metadata": {},
     "output_type": "execute_result"
    }
   ],
   "source": [
    "train_df.isna().sum()"
   ]
  },
  {
   "cell_type": "code",
   "execution_count": 66,
   "id": "continent-reliance",
   "metadata": {
    "execution": {
     "iopub.execute_input": "2021-05-20T16:51:10.104306Z",
     "iopub.status.busy": "2021-05-20T16:51:10.103708Z",
     "iopub.status.idle": "2021-05-20T16:51:10.118206Z",
     "shell.execute_reply": "2021-05-20T16:51:10.117646Z",
     "shell.execute_reply.started": "2021-05-20T16:47:52.630935Z"
    },
    "papermill": {
     "duration": 0.10258,
     "end_time": "2021-05-20T16:51:10.118359",
     "exception": false,
     "start_time": "2021-05-20T16:51:10.015779",
     "status": "completed"
    },
    "tags": []
   },
   "outputs": [
    {
     "data": {
      "text/html": [
       "<div>\n",
       "<style scoped>\n",
       "    .dataframe tbody tr th:only-of-type {\n",
       "        vertical-align: middle;\n",
       "    }\n",
       "\n",
       "    .dataframe tbody tr th {\n",
       "        vertical-align: top;\n",
       "    }\n",
       "\n",
       "    .dataframe thead th {\n",
       "        text-align: right;\n",
       "    }\n",
       "</style>\n",
       "<table border=\"1\" class=\"dataframe\">\n",
       "  <thead>\n",
       "    <tr style=\"text-align: right;\">\n",
       "      <th></th>\n",
       "      <th>Square</th>\n",
       "      <th>LifeSquare</th>\n",
       "      <th>KitchenSquare</th>\n",
       "    </tr>\n",
       "  </thead>\n",
       "  <tbody>\n",
       "    <tr>\n",
       "      <th>0</th>\n",
       "      <td>115.027311</td>\n",
       "      <td>NaN</td>\n",
       "      <td>10.0</td>\n",
       "    </tr>\n",
       "    <tr>\n",
       "      <th>1</th>\n",
       "      <td>39.832524</td>\n",
       "      <td>23.169223</td>\n",
       "      <td>8.0</td>\n",
       "    </tr>\n",
       "    <tr>\n",
       "      <th>2</th>\n",
       "      <td>78.342215</td>\n",
       "      <td>47.671972</td>\n",
       "      <td>10.0</td>\n",
       "    </tr>\n",
       "    <tr>\n",
       "      <th>3</th>\n",
       "      <td>40.409907</td>\n",
       "      <td>NaN</td>\n",
       "      <td>3.0</td>\n",
       "    </tr>\n",
       "    <tr>\n",
       "      <th>4</th>\n",
       "      <td>64.285067</td>\n",
       "      <td>38.562517</td>\n",
       "      <td>9.0</td>\n",
       "    </tr>\n",
       "    <tr>\n",
       "      <th>5</th>\n",
       "      <td>62.528465</td>\n",
       "      <td>47.103833</td>\n",
       "      <td>6.0</td>\n",
       "    </tr>\n",
       "    <tr>\n",
       "      <th>6</th>\n",
       "      <td>33.938750</td>\n",
       "      <td>21.772930</td>\n",
       "      <td>9.0</td>\n",
       "    </tr>\n",
       "    <tr>\n",
       "      <th>7</th>\n",
       "      <td>50.391814</td>\n",
       "      <td>32.893256</td>\n",
       "      <td>8.0</td>\n",
       "    </tr>\n",
       "    <tr>\n",
       "      <th>8</th>\n",
       "      <td>46.887892</td>\n",
       "      <td>44.628132</td>\n",
       "      <td>3.0</td>\n",
       "    </tr>\n",
       "    <tr>\n",
       "      <th>9</th>\n",
       "      <td>79.867477</td>\n",
       "      <td>75.085125</td>\n",
       "      <td>3.0</td>\n",
       "    </tr>\n",
       "  </tbody>\n",
       "</table>\n",
       "</div>"
      ],
      "text/plain": [
       "       Square  LifeSquare  KitchenSquare\n",
       "0  115.027311         NaN           10.0\n",
       "1   39.832524   23.169223            8.0\n",
       "2   78.342215   47.671972           10.0\n",
       "3   40.409907         NaN            3.0\n",
       "4   64.285067   38.562517            9.0\n",
       "5   62.528465   47.103833            6.0\n",
       "6   33.938750   21.772930            9.0\n",
       "7   50.391814   32.893256            8.0\n",
       "8   46.887892   44.628132            3.0\n",
       "9   79.867477   75.085125            3.0"
      ]
     },
     "execution_count": 66,
     "metadata": {},
     "output_type": "execute_result"
    }
   ],
   "source": [
    "train_df[['Square', 'LifeSquare', 'KitchenSquare']].head(10)"
   ]
  },
  {
   "cell_type": "markdown",
   "id": "ambient-heating",
   "metadata": {
    "papermill": {
     "duration": 0.084805,
     "end_time": "2021-05-20T16:51:10.288474",
     "exception": false,
     "start_time": "2021-05-20T16:51:10.203669",
     "status": "completed"
    },
    "tags": []
   },
   "source": [
    "### LifeSquare"
   ]
  },
  {
   "cell_type": "code",
   "execution_count": 67,
   "id": "frank-frequency",
   "metadata": {
    "execution": {
     "iopub.execute_input": "2021-05-20T16:51:10.468301Z",
     "iopub.status.busy": "2021-05-20T16:51:10.467692Z",
     "iopub.status.idle": "2021-05-20T16:51:10.472626Z",
     "shell.execute_reply": "2021-05-20T16:51:10.473155Z",
     "shell.execute_reply.started": "2021-05-20T16:47:52.644939Z"
    },
    "papermill": {
     "duration": 0.099886,
     "end_time": "2021-05-20T16:51:10.473342",
     "exception": false,
     "start_time": "2021-05-20T16:51:10.373456",
     "status": "completed"
    },
    "tags": []
   },
   "outputs": [],
   "source": [
    "train_df['LifeSquare_nan'] = train_df['LifeSquare'].isna() * 1\n",
    "\n",
    "condition = (train_df['LifeSquare'].isna()) \\\n",
    "             & (~train_df['Square'].isna()) \\\n",
    "             & (~train_df['KitchenSquare'].isna())\n",
    "        \n",
    "train_df.loc[condition, 'LifeSquare'] = train_df.loc[condition, 'Square'] \\\n",
    "                                            - train_df.loc[condition, 'KitchenSquare'] - 3"
   ]
  },
  {
   "cell_type": "markdown",
   "id": "buried-blade",
   "metadata": {
    "papermill": {
     "duration": 0.084552,
     "end_time": "2021-05-20T16:51:10.642818",
     "exception": false,
     "start_time": "2021-05-20T16:51:10.558266",
     "status": "completed"
    },
    "tags": []
   },
   "source": [
    "### Healthcare_1"
   ]
  },
  {
   "cell_type": "code",
   "execution_count": 68,
   "id": "facial-arctic",
   "metadata": {
    "execution": {
     "iopub.execute_input": "2021-05-20T16:51:10.815007Z",
     "iopub.status.busy": "2021-05-20T16:51:10.814394Z",
     "iopub.status.idle": "2021-05-20T16:51:10.822774Z",
     "shell.execute_reply": "2021-05-20T16:51:10.822260Z",
     "shell.execute_reply.started": "2021-05-20T16:47:52.657777Z"
    },
    "papermill": {
     "duration": 0.095559,
     "end_time": "2021-05-20T16:51:10.822915",
     "exception": false,
     "start_time": "2021-05-20T16:51:10.727356",
     "status": "completed"
    },
    "tags": []
   },
   "outputs": [],
   "source": [
    "train_df['Healthcare_1_nan'] = train_df['Healthcare_1'].isna() * 1\n",
    "condition = (train_df['Healthcare_1'].isna())     \n",
    "train_df.loc[condition, 'Healthcare_1'] = train_df['Healthcare_1'].median()"
   ]
  },
  {
   "cell_type": "code",
   "execution_count": 69,
   "id": "chubby-toilet",
   "metadata": {
    "execution": {
     "iopub.execute_input": "2021-05-20T16:51:11.011946Z",
     "iopub.status.busy": "2021-05-20T16:51:11.011198Z",
     "iopub.status.idle": "2021-05-20T16:51:11.013367Z",
     "shell.execute_reply": "2021-05-20T16:51:11.013924Z",
     "shell.execute_reply.started": "2021-05-20T16:47:52.665850Z"
    },
    "papermill": {
     "duration": 0.105134,
     "end_time": "2021-05-20T16:51:11.014097",
     "exception": false,
     "start_time": "2021-05-20T16:51:10.908963",
     "status": "completed"
    },
    "tags": []
   },
   "outputs": [],
   "source": [
    "class DataPreprocessing:\n",
    "    \"\"\"Подготовка исходных данных\"\"\"\n",
    "\n",
    "    def __init__(self):\n",
    "        \"\"\"Параметры класса\"\"\"\n",
    "        self.medians=None\n",
    "        self.kitchen_square_quantile = None\n",
    "        \n",
    "    def fit(self, X):\n",
    "        \"\"\"Сохранение статистик\"\"\"       \n",
    "        # Расчет медиан\n",
    "        self.medians = X.median()\n",
    "        self.kitchen_square_quantile = X['KitchenSquare'].quantile(.975)\n",
    "    \n",
    "    def transform(self, X):\n",
    "        \"\"\"Трансформация данных\"\"\"\n",
    "\n",
    "        # Rooms\n",
    "        X['Rooms_outlier'] = 0\n",
    "        X.loc[(X['Rooms'] == 0) | (X['Rooms'] >= 6), 'Rooms_outlier'] = 1\n",
    "        \n",
    "        X.loc[X['Rooms'] == 0, 'Rooms'] = 1\n",
    "        X.loc[X['Rooms'] >= 6, 'Rooms'] = 5\n",
    "        \n",
    "        #Square\n",
    "        \n",
    "        X['Square'], X['LifeSquare'] = np.where(X['Square'] < X['LifeSquare'],(X['LifeSquare'],X['Square']), (X['Square'],X['LifeSquare']))\n",
    "\n",
    "        # KitchenSquare\n",
    "        condition = (X['KitchenSquare'].isna()) \\\n",
    "                    | (X['KitchenSquare'] > self.kitchen_square_quantile)\n",
    "        \n",
    "        X.loc[condition, 'KitchenSquare'] = self.medians['KitchenSquare']\n",
    "\n",
    "        X.loc[X['KitchenSquare'] < 3, 'KitchenSquare'] = 3\n",
    "        \n",
    "        # HouseFloor, Floor\n",
    "        X['HouseFloor_outlier'] = 0\n",
    "        X.loc[X['HouseFloor'] == 0, 'HouseFloor_outlier'] = 1\n",
    "        X.loc[X['Floor'] > X['HouseFloor'], 'HouseFloor_outlier'] = 1\n",
    "        \n",
    "        X.loc[X['HouseFloor'] == 0, 'HouseFloor'] = 1\n",
    "        \n",
    "        floor_outliers = X.loc[X['Floor'] > X['HouseFloor']].index\n",
    "        X.loc[floor_outliers, 'Floor'] = X.loc[floor_outliers, 'HouseFloor']\\\n",
    "                                            .apply(lambda x: random.randint(1, x))\n",
    "        \n",
    "        # HouseYear\n",
    "        current_year = datetime.now().year\n",
    "        \n",
    "        X['HouseYear_outlier'] = 0\n",
    "        X.loc[X['HouseYear'] > current_year, 'HouseYear_outlier'] = 1\n",
    "        \n",
    "        X.loc[X['HouseYear'] > current_year, 'HouseYear'] = self.medians['HouseYear']\n",
    "        \n",
    "        # Healthcare_1\n",
    "        \n",
    "        X['Healthcare_1_nan'] = X['Healthcare_1'].isna() * 1\n",
    "        condition = (train_df['Healthcare_1'].isna())     \n",
    "        X.loc[condition, 'Healthcare_1'] = X['Healthcare_1'].median()\n",
    "            \n",
    "        # LifeSquare\n",
    "        X['LifeSquare_nan'] = X['LifeSquare'].isna() * 1\n",
    "        condition = (X['LifeSquare'].isna()) & \\\n",
    "                      (~X['Square'].isna()) & \\\n",
    "                      (~X['KitchenSquare'].isna())\n",
    "        \n",
    "        X.loc[condition, 'LifeSquare'] = X.loc[condition, 'Square'] - X.loc[condition, 'KitchenSquare'] - 3\n",
    "        \n",
    "        \n",
    "        X.fillna(self.medians, inplace=True)\n",
    "        \n",
    "        return X"
   ]
  },
  {
   "cell_type": "markdown",
   "id": "binary-invalid",
   "metadata": {
    "execution": {
     "iopub.execute_input": "2021-05-20T15:31:30.919849Z",
     "iopub.status.busy": "2021-05-20T15:31:30.919450Z",
     "iopub.status.idle": "2021-05-20T15:31:30.923490Z",
     "shell.execute_reply": "2021-05-20T15:31:30.922415Z",
     "shell.execute_reply.started": "2021-05-20T15:31:30.919818Z"
    },
    "papermill": {
     "duration": 0.135262,
     "end_time": "2021-05-20T16:51:11.237934",
     "exception": false,
     "start_time": "2021-05-20T16:51:11.102672",
     "status": "completed"
    },
    "tags": []
   },
   "source": [
    "# Построение новых признаков"
   ]
  },
  {
   "cell_type": "code",
   "execution_count": 70,
   "id": "successful-guitar",
   "metadata": {
    "execution": {
     "iopub.execute_input": "2021-05-20T16:51:11.416884Z",
     "iopub.status.busy": "2021-05-20T16:51:11.415853Z",
     "iopub.status.idle": "2021-05-20T16:51:11.437222Z",
     "shell.execute_reply": "2021-05-20T16:51:11.437758Z",
     "shell.execute_reply.started": "2021-05-20T16:47:52.680262Z"
    },
    "papermill": {
     "duration": 0.114571,
     "end_time": "2021-05-20T16:51:11.437957",
     "exception": false,
     "start_time": "2021-05-20T16:51:11.323386",
     "status": "completed"
    },
    "tags": []
   },
   "outputs": [],
   "source": [
    "binary_to_numbers = {'A': 0, 'B': 1}\n",
    "\n",
    "train_df['Ecology_2'] = train_df['Ecology_2'].replace(binary_to_numbers)\n",
    "train_df['Ecology_3'] = train_df['Ecology_3'].replace(binary_to_numbers)\n",
    "train_df['Shops_2'] = train_df['Shops_2'].replace(binary_to_numbers)"
   ]
  },
  {
   "cell_type": "markdown",
   "id": "frequent-return",
   "metadata": {
    "papermill": {
     "duration": 0.085051,
     "end_time": "2021-05-20T16:51:11.607940",
     "exception": false,
     "start_time": "2021-05-20T16:51:11.522889",
     "status": "completed"
    },
    "tags": []
   },
   "source": [
    "### DistrictSize, IsDistrictLarge"
   ]
  },
  {
   "cell_type": "code",
   "execution_count": 71,
   "id": "recent-exercise",
   "metadata": {
    "execution": {
     "iopub.execute_input": "2021-05-20T16:51:11.781466Z",
     "iopub.status.busy": "2021-05-20T16:51:11.780817Z",
     "iopub.status.idle": "2021-05-20T16:51:11.792554Z",
     "shell.execute_reply": "2021-05-20T16:51:11.791896Z",
     "shell.execute_reply.started": "2021-05-20T16:47:52.704471Z"
    },
    "papermill": {
     "duration": 0.099585,
     "end_time": "2021-05-20T16:51:11.792690",
     "exception": false,
     "start_time": "2021-05-20T16:51:11.693105",
     "status": "completed"
    },
    "tags": []
   },
   "outputs": [
    {
     "data": {
      "text/html": [
       "<div>\n",
       "<style scoped>\n",
       "    .dataframe tbody tr th:only-of-type {\n",
       "        vertical-align: middle;\n",
       "    }\n",
       "\n",
       "    .dataframe tbody tr th {\n",
       "        vertical-align: top;\n",
       "    }\n",
       "\n",
       "    .dataframe thead th {\n",
       "        text-align: right;\n",
       "    }\n",
       "</style>\n",
       "<table border=\"1\" class=\"dataframe\">\n",
       "  <thead>\n",
       "    <tr style=\"text-align: right;\">\n",
       "      <th></th>\n",
       "      <th>DistrictId</th>\n",
       "      <th>DistrictSize</th>\n",
       "    </tr>\n",
       "  </thead>\n",
       "  <tbody>\n",
       "    <tr>\n",
       "      <th>0</th>\n",
       "      <td>27</td>\n",
       "      <td>851</td>\n",
       "    </tr>\n",
       "    <tr>\n",
       "      <th>1</th>\n",
       "      <td>1</td>\n",
       "      <td>652</td>\n",
       "    </tr>\n",
       "    <tr>\n",
       "      <th>2</th>\n",
       "      <td>23</td>\n",
       "      <td>565</td>\n",
       "    </tr>\n",
       "    <tr>\n",
       "      <th>3</th>\n",
       "      <td>6</td>\n",
       "      <td>511</td>\n",
       "    </tr>\n",
       "    <tr>\n",
       "      <th>4</th>\n",
       "      <td>9</td>\n",
       "      <td>294</td>\n",
       "    </tr>\n",
       "  </tbody>\n",
       "</table>\n",
       "</div>"
      ],
      "text/plain": [
       "   DistrictId  DistrictSize\n",
       "0          27           851\n",
       "1           1           652\n",
       "2          23           565\n",
       "3           6           511\n",
       "4           9           294"
      ]
     },
     "execution_count": 71,
     "metadata": {},
     "output_type": "execute_result"
    }
   ],
   "source": [
    "district_size = train_df['DistrictId'].value_counts().reset_index()\\\n",
    "                    .rename(columns={'index':'DistrictId', 'DistrictId':'DistrictSize'})\n",
    "\n",
    "district_size.head()"
   ]
  },
  {
   "cell_type": "code",
   "execution_count": 72,
   "id": "secure-sauce",
   "metadata": {
    "execution": {
     "iopub.execute_input": "2021-05-20T16:51:11.967719Z",
     "iopub.status.busy": "2021-05-20T16:51:11.967105Z",
     "iopub.status.idle": "2021-05-20T16:51:12.009974Z",
     "shell.execute_reply": "2021-05-20T16:51:12.009477Z",
     "shell.execute_reply.started": "2021-05-20T16:47:52.717350Z"
    },
    "papermill": {
     "duration": 0.131103,
     "end_time": "2021-05-20T16:51:12.010116",
     "exception": false,
     "start_time": "2021-05-20T16:51:11.879013",
     "status": "completed"
    },
    "tags": []
   },
   "outputs": [
    {
     "data": {
      "text/html": [
       "<div>\n",
       "<style scoped>\n",
       "    .dataframe tbody tr th:only-of-type {\n",
       "        vertical-align: middle;\n",
       "    }\n",
       "\n",
       "    .dataframe tbody tr th {\n",
       "        vertical-align: top;\n",
       "    }\n",
       "\n",
       "    .dataframe thead th {\n",
       "        text-align: right;\n",
       "    }\n",
       "</style>\n",
       "<table border=\"1\" class=\"dataframe\">\n",
       "  <thead>\n",
       "    <tr style=\"text-align: right;\">\n",
       "      <th></th>\n",
       "      <th>Id</th>\n",
       "      <th>DistrictId</th>\n",
       "      <th>Rooms</th>\n",
       "      <th>Square</th>\n",
       "      <th>LifeSquare</th>\n",
       "      <th>KitchenSquare</th>\n",
       "      <th>Floor</th>\n",
       "      <th>HouseFloor</th>\n",
       "      <th>HouseYear</th>\n",
       "      <th>Ecology_1</th>\n",
       "      <th>...</th>\n",
       "      <th>Healthcare_1</th>\n",
       "      <th>Helthcare_2</th>\n",
       "      <th>Shops_1</th>\n",
       "      <th>Shops_2</th>\n",
       "      <th>Price</th>\n",
       "      <th>Rooms_outlier</th>\n",
       "      <th>HouseFloor_outlier</th>\n",
       "      <th>LifeSquare_nan</th>\n",
       "      <th>Healthcare_1_nan</th>\n",
       "      <th>DistrictSize</th>\n",
       "    </tr>\n",
       "  </thead>\n",
       "  <tbody>\n",
       "    <tr>\n",
       "      <th>0</th>\n",
       "      <td>11809</td>\n",
       "      <td>27</td>\n",
       "      <td>3.0</td>\n",
       "      <td>115.027311</td>\n",
       "      <td>102.027311</td>\n",
       "      <td>10.0</td>\n",
       "      <td>4</td>\n",
       "      <td>10.0</td>\n",
       "      <td>2014</td>\n",
       "      <td>0.075424</td>\n",
       "      <td>...</td>\n",
       "      <td>900.0</td>\n",
       "      <td>0</td>\n",
       "      <td>0</td>\n",
       "      <td>1</td>\n",
       "      <td>305018.871089</td>\n",
       "      <td>0</td>\n",
       "      <td>0</td>\n",
       "      <td>1</td>\n",
       "      <td>1</td>\n",
       "      <td>851</td>\n",
       "    </tr>\n",
       "    <tr>\n",
       "      <th>1</th>\n",
       "      <td>3013</td>\n",
       "      <td>22</td>\n",
       "      <td>1.0</td>\n",
       "      <td>39.832524</td>\n",
       "      <td>23.169223</td>\n",
       "      <td>8.0</td>\n",
       "      <td>7</td>\n",
       "      <td>8.0</td>\n",
       "      <td>1966</td>\n",
       "      <td>0.118537</td>\n",
       "      <td>...</td>\n",
       "      <td>1183.0</td>\n",
       "      <td>1</td>\n",
       "      <td>0</td>\n",
       "      <td>1</td>\n",
       "      <td>177734.553407</td>\n",
       "      <td>0</td>\n",
       "      <td>0</td>\n",
       "      <td>0</td>\n",
       "      <td>0</td>\n",
       "      <td>78</td>\n",
       "    </tr>\n",
       "    <tr>\n",
       "      <th>2</th>\n",
       "      <td>8215</td>\n",
       "      <td>1</td>\n",
       "      <td>3.0</td>\n",
       "      <td>78.342215</td>\n",
       "      <td>47.671972</td>\n",
       "      <td>10.0</td>\n",
       "      <td>2</td>\n",
       "      <td>17.0</td>\n",
       "      <td>1988</td>\n",
       "      <td>0.025609</td>\n",
       "      <td>...</td>\n",
       "      <td>240.0</td>\n",
       "      <td>3</td>\n",
       "      <td>1</td>\n",
       "      <td>1</td>\n",
       "      <td>282078.720850</td>\n",
       "      <td>0</td>\n",
       "      <td>0</td>\n",
       "      <td>0</td>\n",
       "      <td>0</td>\n",
       "      <td>652</td>\n",
       "    </tr>\n",
       "    <tr>\n",
       "      <th>3</th>\n",
       "      <td>2352</td>\n",
       "      <td>1</td>\n",
       "      <td>1.0</td>\n",
       "      <td>40.409907</td>\n",
       "      <td>34.409907</td>\n",
       "      <td>3.0</td>\n",
       "      <td>10</td>\n",
       "      <td>22.0</td>\n",
       "      <td>1977</td>\n",
       "      <td>0.007122</td>\n",
       "      <td>...</td>\n",
       "      <td>900.0</td>\n",
       "      <td>0</td>\n",
       "      <td>1</td>\n",
       "      <td>1</td>\n",
       "      <td>168106.007630</td>\n",
       "      <td>0</td>\n",
       "      <td>0</td>\n",
       "      <td>1</td>\n",
       "      <td>1</td>\n",
       "      <td>652</td>\n",
       "    </tr>\n",
       "    <tr>\n",
       "      <th>4</th>\n",
       "      <td>13866</td>\n",
       "      <td>94</td>\n",
       "      <td>2.0</td>\n",
       "      <td>64.285067</td>\n",
       "      <td>38.562517</td>\n",
       "      <td>9.0</td>\n",
       "      <td>16</td>\n",
       "      <td>16.0</td>\n",
       "      <td>1972</td>\n",
       "      <td>0.282798</td>\n",
       "      <td>...</td>\n",
       "      <td>900.0</td>\n",
       "      <td>0</td>\n",
       "      <td>6</td>\n",
       "      <td>1</td>\n",
       "      <td>343995.102962</td>\n",
       "      <td>0</td>\n",
       "      <td>0</td>\n",
       "      <td>0</td>\n",
       "      <td>1</td>\n",
       "      <td>89</td>\n",
       "    </tr>\n",
       "  </tbody>\n",
       "</table>\n",
       "<p>5 rows × 25 columns</p>\n",
       "</div>"
      ],
      "text/plain": [
       "      Id  DistrictId  Rooms      Square  LifeSquare  KitchenSquare  Floor  \\\n",
       "0  11809          27    3.0  115.027311  102.027311           10.0      4   \n",
       "1   3013          22    1.0   39.832524   23.169223            8.0      7   \n",
       "2   8215           1    3.0   78.342215   47.671972           10.0      2   \n",
       "3   2352           1    1.0   40.409907   34.409907            3.0     10   \n",
       "4  13866          94    2.0   64.285067   38.562517            9.0     16   \n",
       "\n",
       "   HouseFloor  HouseYear  Ecology_1  ...  Healthcare_1  Helthcare_2  Shops_1  \\\n",
       "0        10.0       2014   0.075424  ...         900.0            0        0   \n",
       "1         8.0       1966   0.118537  ...        1183.0            1        0   \n",
       "2        17.0       1988   0.025609  ...         240.0            3        1   \n",
       "3        22.0       1977   0.007122  ...         900.0            0        1   \n",
       "4        16.0       1972   0.282798  ...         900.0            0        6   \n",
       "\n",
       "   Shops_2          Price  Rooms_outlier  HouseFloor_outlier  LifeSquare_nan  \\\n",
       "0        1  305018.871089              0                   0               1   \n",
       "1        1  177734.553407              0                   0               0   \n",
       "2        1  282078.720850              0                   0               0   \n",
       "3        1  168106.007630              0                   0               1   \n",
       "4        1  343995.102962              0                   0               0   \n",
       "\n",
       "   Healthcare_1_nan  DistrictSize  \n",
       "0                 1           851  \n",
       "1                 0            78  \n",
       "2                 0           652  \n",
       "3                 1           652  \n",
       "4                 1            89  \n",
       "\n",
       "[5 rows x 25 columns]"
      ]
     },
     "execution_count": 72,
     "metadata": {},
     "output_type": "execute_result"
    }
   ],
   "source": [
    "train_df = train_df.merge(district_size, on='DistrictId', how='left')\n",
    "train_df.head()"
   ]
  },
  {
   "cell_type": "code",
   "execution_count": 73,
   "id": "secure-mitchell",
   "metadata": {
    "execution": {
     "iopub.execute_input": "2021-05-20T16:51:12.225843Z",
     "iopub.status.busy": "2021-05-20T16:51:12.225188Z",
     "iopub.status.idle": "2021-05-20T16:51:12.229475Z",
     "shell.execute_reply": "2021-05-20T16:51:12.229937Z",
     "shell.execute_reply.started": "2021-05-20T16:47:52.755530Z"
    },
    "papermill": {
     "duration": 0.104315,
     "end_time": "2021-05-20T16:51:12.230111",
     "exception": false,
     "start_time": "2021-05-20T16:51:12.125796",
     "status": "completed"
    },
    "tags": []
   },
   "outputs": [
    {
     "data": {
      "text/plain": [
       "True     5069\n",
       "False    4931\n",
       "Name: DistrictSize, dtype: int64"
      ]
     },
     "execution_count": 73,
     "metadata": {},
     "output_type": "execute_result"
    }
   ],
   "source": [
    "(train_df['DistrictSize'] > 100).value_counts()"
   ]
  },
  {
   "cell_type": "code",
   "execution_count": 74,
   "id": "rolled-pitch",
   "metadata": {
    "execution": {
     "iopub.execute_input": "2021-05-20T16:51:12.410076Z",
     "iopub.status.busy": "2021-05-20T16:51:12.409061Z",
     "iopub.status.idle": "2021-05-20T16:51:12.414741Z",
     "shell.execute_reply": "2021-05-20T16:51:12.415194Z",
     "shell.execute_reply.started": "2021-05-20T16:47:52.763900Z"
    },
    "papermill": {
     "duration": 0.097249,
     "end_time": "2021-05-20T16:51:12.415382",
     "exception": false,
     "start_time": "2021-05-20T16:51:12.318133",
     "status": "completed"
    },
    "tags": []
   },
   "outputs": [],
   "source": [
    "train_df['IsDistrictLarge'] = (train_df['DistrictSize'] > 100).astype(int)"
   ]
  },
  {
   "cell_type": "markdown",
   "id": "filled-friend",
   "metadata": {
    "papermill": {
     "duration": 0.086624,
     "end_time": "2021-05-20T16:51:12.591173",
     "exception": false,
     "start_time": "2021-05-20T16:51:12.504549",
     "status": "completed"
    },
    "tags": []
   },
   "source": [
    "### MedPriceByFloorYear"
   ]
  },
  {
   "cell_type": "code",
   "execution_count": 75,
   "id": "informal-mills",
   "metadata": {
    "execution": {
     "iopub.execute_input": "2021-05-20T16:51:12.770104Z",
     "iopub.status.busy": "2021-05-20T16:51:12.769058Z",
     "iopub.status.idle": "2021-05-20T16:51:12.777304Z",
     "shell.execute_reply": "2021-05-20T16:51:12.776677Z",
     "shell.execute_reply.started": "2021-05-20T16:47:52.772658Z"
    },
    "papermill": {
     "duration": 0.098835,
     "end_time": "2021-05-20T16:51:12.777488",
     "exception": false,
     "start_time": "2021-05-20T16:51:12.678653",
     "status": "completed"
    },
    "tags": []
   },
   "outputs": [],
   "source": [
    "def floor_to_cat(X):\n",
    "    bins = [0, 3, 5, 9, 15, X['Floor'].max()]\n",
    "    X['floor_cat'] = pd.cut(X['Floor'], bins=bins, labels=False)\n",
    "    \n",
    "    X['floor_cat'].fillna(-1, inplace=True)\n",
    "    return X\n",
    "def year_to_cat(X):\n",
    "    bins = [0, 1941, 1945, 1980, 2000, 2010, X['HouseYear'].max()]\n",
    "    X['year_cat'] = pd.cut(X['HouseYear'], bins=bins, labels=False)\n",
    "    \n",
    "    X['year_cat'].fillna(-1, inplace=True)\n",
    "    return X"
   ]
  },
  {
   "cell_type": "code",
   "execution_count": 76,
   "id": "celtic-signature",
   "metadata": {
    "execution": {
     "iopub.execute_input": "2021-05-20T16:51:12.959905Z",
     "iopub.status.busy": "2021-05-20T16:51:12.958934Z",
     "iopub.status.idle": "2021-05-20T16:51:12.966599Z",
     "shell.execute_reply": "2021-05-20T16:51:12.967055Z",
     "shell.execute_reply.started": "2021-05-20T16:47:52.782081Z"
    },
    "papermill": {
     "duration": 0.101886,
     "end_time": "2021-05-20T16:51:12.967228",
     "exception": false,
     "start_time": "2021-05-20T16:51:12.865342",
     "status": "completed"
    },
    "tags": []
   },
   "outputs": [
    {
     "data": {
      "text/plain": [
       "0       1\n",
       "1       2\n",
       "2       0\n",
       "3       3\n",
       "4       4\n",
       "       ..\n",
       "9995    0\n",
       "9996    0\n",
       "9997    0\n",
       "9998    0\n",
       "9999    2\n",
       "Name: Floor, Length: 10000, dtype: int64"
      ]
     },
     "execution_count": 76,
     "metadata": {},
     "output_type": "execute_result"
    }
   ],
   "source": [
    "bins = [0, 3, 5, 9, 15, train_df['Floor'].max()]\n",
    "pd.cut(train_df['Floor'], bins=bins, labels=False)"
   ]
  },
  {
   "cell_type": "code",
   "execution_count": 77,
   "id": "expected-preference",
   "metadata": {
    "execution": {
     "iopub.execute_input": "2021-05-20T16:51:13.151544Z",
     "iopub.status.busy": "2021-05-20T16:51:13.150500Z",
     "iopub.status.idle": "2021-05-20T16:51:13.168023Z",
     "shell.execute_reply": "2021-05-20T16:51:13.168566Z",
     "shell.execute_reply.started": "2021-05-20T16:47:52.796172Z"
    },
    "papermill": {
     "duration": 0.113889,
     "end_time": "2021-05-20T16:51:13.168737",
     "exception": false,
     "start_time": "2021-05-20T16:51:13.054848",
     "status": "completed"
    },
    "tags": []
   },
   "outputs": [
    {
     "data": {
      "text/plain": [
       "0         (3, 5]\n",
       "1         (5, 9]\n",
       "2         (0, 3]\n",
       "3        (9, 15]\n",
       "4       (15, 42]\n",
       "          ...   \n",
       "9995      (0, 3]\n",
       "9996      (0, 3]\n",
       "9997      (0, 3]\n",
       "9998      (0, 3]\n",
       "9999      (5, 9]\n",
       "Name: Floor, Length: 10000, dtype: category\n",
       "Categories (5, interval[int64, right]): [(0, 3] < (3, 5] < (5, 9] < (9, 15] < (15, 42]]"
      ]
     },
     "execution_count": 77,
     "metadata": {},
     "output_type": "execute_result"
    }
   ],
   "source": [
    "bins = [0, 3, 5, 9, 15, train_df['Floor'].max()]\n",
    "pd.cut(train_df['Floor'], bins=bins)"
   ]
  },
  {
   "cell_type": "code",
   "execution_count": 78,
   "id": "executive-trigger",
   "metadata": {
    "execution": {
     "iopub.execute_input": "2021-05-20T16:51:13.348353Z",
     "iopub.status.busy": "2021-05-20T16:51:13.347688Z",
     "iopub.status.idle": "2021-05-20T16:51:13.378066Z",
     "shell.execute_reply": "2021-05-20T16:51:13.378681Z",
     "shell.execute_reply.started": "2021-05-20T16:47:52.809127Z"
    },
    "papermill": {
     "duration": 0.121788,
     "end_time": "2021-05-20T16:51:13.378898",
     "exception": false,
     "start_time": "2021-05-20T16:51:13.257110",
     "status": "completed"
    },
    "tags": []
   },
   "outputs": [
    {
     "data": {
      "text/html": [
       "<div>\n",
       "<style scoped>\n",
       "    .dataframe tbody tr th:only-of-type {\n",
       "        vertical-align: middle;\n",
       "    }\n",
       "\n",
       "    .dataframe tbody tr th {\n",
       "        vertical-align: top;\n",
       "    }\n",
       "\n",
       "    .dataframe thead th {\n",
       "        text-align: right;\n",
       "    }\n",
       "</style>\n",
       "<table border=\"1\" class=\"dataframe\">\n",
       "  <thead>\n",
       "    <tr style=\"text-align: right;\">\n",
       "      <th></th>\n",
       "      <th>Id</th>\n",
       "      <th>DistrictId</th>\n",
       "      <th>Rooms</th>\n",
       "      <th>Square</th>\n",
       "      <th>LifeSquare</th>\n",
       "      <th>KitchenSquare</th>\n",
       "      <th>Floor</th>\n",
       "      <th>HouseFloor</th>\n",
       "      <th>HouseYear</th>\n",
       "      <th>Ecology_1</th>\n",
       "      <th>...</th>\n",
       "      <th>Shops_2</th>\n",
       "      <th>Price</th>\n",
       "      <th>Rooms_outlier</th>\n",
       "      <th>HouseFloor_outlier</th>\n",
       "      <th>LifeSquare_nan</th>\n",
       "      <th>Healthcare_1_nan</th>\n",
       "      <th>DistrictSize</th>\n",
       "      <th>IsDistrictLarge</th>\n",
       "      <th>year_cat</th>\n",
       "      <th>floor_cat</th>\n",
       "    </tr>\n",
       "  </thead>\n",
       "  <tbody>\n",
       "    <tr>\n",
       "      <th>0</th>\n",
       "      <td>11809</td>\n",
       "      <td>27</td>\n",
       "      <td>3.0</td>\n",
       "      <td>115.027311</td>\n",
       "      <td>102.027311</td>\n",
       "      <td>10.0</td>\n",
       "      <td>4</td>\n",
       "      <td>10.0</td>\n",
       "      <td>2014</td>\n",
       "      <td>0.075424</td>\n",
       "      <td>...</td>\n",
       "      <td>1</td>\n",
       "      <td>305018.871089</td>\n",
       "      <td>0</td>\n",
       "      <td>0</td>\n",
       "      <td>1</td>\n",
       "      <td>1</td>\n",
       "      <td>851</td>\n",
       "      <td>1</td>\n",
       "      <td>5</td>\n",
       "      <td>1</td>\n",
       "    </tr>\n",
       "    <tr>\n",
       "      <th>1</th>\n",
       "      <td>3013</td>\n",
       "      <td>22</td>\n",
       "      <td>1.0</td>\n",
       "      <td>39.832524</td>\n",
       "      <td>23.169223</td>\n",
       "      <td>8.0</td>\n",
       "      <td>7</td>\n",
       "      <td>8.0</td>\n",
       "      <td>1966</td>\n",
       "      <td>0.118537</td>\n",
       "      <td>...</td>\n",
       "      <td>1</td>\n",
       "      <td>177734.553407</td>\n",
       "      <td>0</td>\n",
       "      <td>0</td>\n",
       "      <td>0</td>\n",
       "      <td>0</td>\n",
       "      <td>78</td>\n",
       "      <td>0</td>\n",
       "      <td>2</td>\n",
       "      <td>2</td>\n",
       "    </tr>\n",
       "    <tr>\n",
       "      <th>2</th>\n",
       "      <td>8215</td>\n",
       "      <td>1</td>\n",
       "      <td>3.0</td>\n",
       "      <td>78.342215</td>\n",
       "      <td>47.671972</td>\n",
       "      <td>10.0</td>\n",
       "      <td>2</td>\n",
       "      <td>17.0</td>\n",
       "      <td>1988</td>\n",
       "      <td>0.025609</td>\n",
       "      <td>...</td>\n",
       "      <td>1</td>\n",
       "      <td>282078.720850</td>\n",
       "      <td>0</td>\n",
       "      <td>0</td>\n",
       "      <td>0</td>\n",
       "      <td>0</td>\n",
       "      <td>652</td>\n",
       "      <td>1</td>\n",
       "      <td>3</td>\n",
       "      <td>0</td>\n",
       "    </tr>\n",
       "    <tr>\n",
       "      <th>3</th>\n",
       "      <td>2352</td>\n",
       "      <td>1</td>\n",
       "      <td>1.0</td>\n",
       "      <td>40.409907</td>\n",
       "      <td>34.409907</td>\n",
       "      <td>3.0</td>\n",
       "      <td>10</td>\n",
       "      <td>22.0</td>\n",
       "      <td>1977</td>\n",
       "      <td>0.007122</td>\n",
       "      <td>...</td>\n",
       "      <td>1</td>\n",
       "      <td>168106.007630</td>\n",
       "      <td>0</td>\n",
       "      <td>0</td>\n",
       "      <td>1</td>\n",
       "      <td>1</td>\n",
       "      <td>652</td>\n",
       "      <td>1</td>\n",
       "      <td>2</td>\n",
       "      <td>3</td>\n",
       "    </tr>\n",
       "    <tr>\n",
       "      <th>4</th>\n",
       "      <td>13866</td>\n",
       "      <td>94</td>\n",
       "      <td>2.0</td>\n",
       "      <td>64.285067</td>\n",
       "      <td>38.562517</td>\n",
       "      <td>9.0</td>\n",
       "      <td>16</td>\n",
       "      <td>16.0</td>\n",
       "      <td>1972</td>\n",
       "      <td>0.282798</td>\n",
       "      <td>...</td>\n",
       "      <td>1</td>\n",
       "      <td>343995.102962</td>\n",
       "      <td>0</td>\n",
       "      <td>0</td>\n",
       "      <td>0</td>\n",
       "      <td>1</td>\n",
       "      <td>89</td>\n",
       "      <td>0</td>\n",
       "      <td>2</td>\n",
       "      <td>4</td>\n",
       "    </tr>\n",
       "  </tbody>\n",
       "</table>\n",
       "<p>5 rows × 28 columns</p>\n",
       "</div>"
      ],
      "text/plain": [
       "      Id  DistrictId  Rooms      Square  LifeSquare  KitchenSquare  Floor  \\\n",
       "0  11809          27    3.0  115.027311  102.027311           10.0      4   \n",
       "1   3013          22    1.0   39.832524   23.169223            8.0      7   \n",
       "2   8215           1    3.0   78.342215   47.671972           10.0      2   \n",
       "3   2352           1    1.0   40.409907   34.409907            3.0     10   \n",
       "4  13866          94    2.0   64.285067   38.562517            9.0     16   \n",
       "\n",
       "   HouseFloor  HouseYear  Ecology_1  ...  Shops_2          Price  \\\n",
       "0        10.0       2014   0.075424  ...        1  305018.871089   \n",
       "1         8.0       1966   0.118537  ...        1  177734.553407   \n",
       "2        17.0       1988   0.025609  ...        1  282078.720850   \n",
       "3        22.0       1977   0.007122  ...        1  168106.007630   \n",
       "4        16.0       1972   0.282798  ...        1  343995.102962   \n",
       "\n",
       "   Rooms_outlier  HouseFloor_outlier  LifeSquare_nan  Healthcare_1_nan  \\\n",
       "0              0                   0               1                 1   \n",
       "1              0                   0               0                 0   \n",
       "2              0                   0               0                 0   \n",
       "3              0                   0               1                 1   \n",
       "4              0                   0               0                 1   \n",
       "\n",
       "   DistrictSize  IsDistrictLarge  year_cat  floor_cat  \n",
       "0           851                1         5          1  \n",
       "1            78                0         2          2  \n",
       "2           652                1         3          0  \n",
       "3           652                1         2          3  \n",
       "4            89                0         2          4  \n",
       "\n",
       "[5 rows x 28 columns]"
      ]
     },
     "execution_count": 78,
     "metadata": {},
     "output_type": "execute_result"
    }
   ],
   "source": [
    "train_df = year_to_cat(train_df)\n",
    "train_df = floor_to_cat(train_df)\n",
    "train_df.head()"
   ]
  },
  {
   "cell_type": "code",
   "execution_count": 79,
   "id": "dress-editor",
   "metadata": {
    "execution": {
     "iopub.execute_input": "2021-05-20T16:51:13.564242Z",
     "iopub.status.busy": "2021-05-20T16:51:13.563535Z",
     "iopub.status.idle": "2021-05-20T16:51:13.579899Z",
     "shell.execute_reply": "2021-05-20T16:51:13.580427Z",
     "shell.execute_reply.started": "2021-05-20T16:47:52.840192Z"
    },
    "papermill": {
     "duration": 0.112231,
     "end_time": "2021-05-20T16:51:13.580600",
     "exception": false,
     "start_time": "2021-05-20T16:51:13.468369",
     "status": "completed"
    },
    "tags": []
   },
   "outputs": [
    {
     "data": {
      "text/html": [
       "<div>\n",
       "<style scoped>\n",
       "    .dataframe tbody tr th:only-of-type {\n",
       "        vertical-align: middle;\n",
       "    }\n",
       "\n",
       "    .dataframe tbody tr th {\n",
       "        vertical-align: top;\n",
       "    }\n",
       "\n",
       "    .dataframe thead th {\n",
       "        text-align: right;\n",
       "    }\n",
       "</style>\n",
       "<table border=\"1\" class=\"dataframe\">\n",
       "  <thead>\n",
       "    <tr style=\"text-align: right;\">\n",
       "      <th></th>\n",
       "      <th>year_cat</th>\n",
       "      <th>floor_cat</th>\n",
       "      <th>MedPriceByFloorYear</th>\n",
       "    </tr>\n",
       "  </thead>\n",
       "  <tbody>\n",
       "    <tr>\n",
       "      <th>0</th>\n",
       "      <td>0</td>\n",
       "      <td>0</td>\n",
       "      <td>371270.130631</td>\n",
       "    </tr>\n",
       "    <tr>\n",
       "      <th>1</th>\n",
       "      <td>0</td>\n",
       "      <td>1</td>\n",
       "      <td>322905.044793</td>\n",
       "    </tr>\n",
       "    <tr>\n",
       "      <th>2</th>\n",
       "      <td>0</td>\n",
       "      <td>2</td>\n",
       "      <td>425791.093113</td>\n",
       "    </tr>\n",
       "    <tr>\n",
       "      <th>3</th>\n",
       "      <td>0</td>\n",
       "      <td>3</td>\n",
       "      <td>274992.472366</td>\n",
       "    </tr>\n",
       "    <tr>\n",
       "      <th>4</th>\n",
       "      <td>1</td>\n",
       "      <td>0</td>\n",
       "      <td>467230.539057</td>\n",
       "    </tr>\n",
       "  </tbody>\n",
       "</table>\n",
       "</div>"
      ],
      "text/plain": [
       "   year_cat  floor_cat  MedPriceByFloorYear\n",
       "0         0          0        371270.130631\n",
       "1         0          1        322905.044793\n",
       "2         0          2        425791.093113\n",
       "3         0          3        274992.472366\n",
       "4         1          0        467230.539057"
      ]
     },
     "execution_count": 79,
     "metadata": {},
     "output_type": "execute_result"
    }
   ],
   "source": [
    "med_price_by_floor_year = train_df.groupby(['year_cat', 'floor_cat'], as_index=False).agg({'Price':'median'}).\\\n",
    "                                            rename(columns={'Price':'MedPriceByFloorYear'})\n",
    "med_price_by_floor_year.head()"
   ]
  },
  {
   "cell_type": "code",
   "execution_count": 80,
   "id": "southern-chile",
   "metadata": {
    "execution": {
     "iopub.execute_input": "2021-05-20T16:51:13.764827Z",
     "iopub.status.busy": "2021-05-20T16:51:13.764180Z",
     "iopub.status.idle": "2021-05-20T16:51:13.799675Z",
     "shell.execute_reply": "2021-05-20T16:51:13.800182Z",
     "shell.execute_reply.started": "2021-05-20T16:47:52.858945Z"
    },
    "papermill": {
     "duration": 0.130045,
     "end_time": "2021-05-20T16:51:13.800386",
     "exception": false,
     "start_time": "2021-05-20T16:51:13.670341",
     "status": "completed"
    },
    "tags": []
   },
   "outputs": [
    {
     "data": {
      "text/html": [
       "<div>\n",
       "<style scoped>\n",
       "    .dataframe tbody tr th:only-of-type {\n",
       "        vertical-align: middle;\n",
       "    }\n",
       "\n",
       "    .dataframe tbody tr th {\n",
       "        vertical-align: top;\n",
       "    }\n",
       "\n",
       "    .dataframe thead th {\n",
       "        text-align: right;\n",
       "    }\n",
       "</style>\n",
       "<table border=\"1\" class=\"dataframe\">\n",
       "  <thead>\n",
       "    <tr style=\"text-align: right;\">\n",
       "      <th></th>\n",
       "      <th>Id</th>\n",
       "      <th>DistrictId</th>\n",
       "      <th>Rooms</th>\n",
       "      <th>Square</th>\n",
       "      <th>LifeSquare</th>\n",
       "      <th>KitchenSquare</th>\n",
       "      <th>Floor</th>\n",
       "      <th>HouseFloor</th>\n",
       "      <th>HouseYear</th>\n",
       "      <th>Ecology_1</th>\n",
       "      <th>...</th>\n",
       "      <th>Price</th>\n",
       "      <th>Rooms_outlier</th>\n",
       "      <th>HouseFloor_outlier</th>\n",
       "      <th>LifeSquare_nan</th>\n",
       "      <th>Healthcare_1_nan</th>\n",
       "      <th>DistrictSize</th>\n",
       "      <th>IsDistrictLarge</th>\n",
       "      <th>year_cat</th>\n",
       "      <th>floor_cat</th>\n",
       "      <th>MedPriceByFloorYear</th>\n",
       "    </tr>\n",
       "  </thead>\n",
       "  <tbody>\n",
       "    <tr>\n",
       "      <th>0</th>\n",
       "      <td>11809</td>\n",
       "      <td>27</td>\n",
       "      <td>3.0</td>\n",
       "      <td>115.027311</td>\n",
       "      <td>102.027311</td>\n",
       "      <td>10.0</td>\n",
       "      <td>4</td>\n",
       "      <td>10.0</td>\n",
       "      <td>2014</td>\n",
       "      <td>0.075424</td>\n",
       "      <td>...</td>\n",
       "      <td>305018.871089</td>\n",
       "      <td>0</td>\n",
       "      <td>0</td>\n",
       "      <td>1</td>\n",
       "      <td>1</td>\n",
       "      <td>851</td>\n",
       "      <td>1</td>\n",
       "      <td>5</td>\n",
       "      <td>1</td>\n",
       "      <td>163788.046294</td>\n",
       "    </tr>\n",
       "    <tr>\n",
       "      <th>1</th>\n",
       "      <td>3013</td>\n",
       "      <td>22</td>\n",
       "      <td>1.0</td>\n",
       "      <td>39.832524</td>\n",
       "      <td>23.169223</td>\n",
       "      <td>8.0</td>\n",
       "      <td>7</td>\n",
       "      <td>8.0</td>\n",
       "      <td>1966</td>\n",
       "      <td>0.118537</td>\n",
       "      <td>...</td>\n",
       "      <td>177734.553407</td>\n",
       "      <td>0</td>\n",
       "      <td>0</td>\n",
       "      <td>0</td>\n",
       "      <td>0</td>\n",
       "      <td>78</td>\n",
       "      <td>0</td>\n",
       "      <td>2</td>\n",
       "      <td>2</td>\n",
       "      <td>193637.668259</td>\n",
       "    </tr>\n",
       "    <tr>\n",
       "      <th>2</th>\n",
       "      <td>8215</td>\n",
       "      <td>1</td>\n",
       "      <td>3.0</td>\n",
       "      <td>78.342215</td>\n",
       "      <td>47.671972</td>\n",
       "      <td>10.0</td>\n",
       "      <td>2</td>\n",
       "      <td>17.0</td>\n",
       "      <td>1988</td>\n",
       "      <td>0.025609</td>\n",
       "      <td>...</td>\n",
       "      <td>282078.720850</td>\n",
       "      <td>0</td>\n",
       "      <td>0</td>\n",
       "      <td>0</td>\n",
       "      <td>0</td>\n",
       "      <td>652</td>\n",
       "      <td>1</td>\n",
       "      <td>3</td>\n",
       "      <td>0</td>\n",
       "      <td>201919.865889</td>\n",
       "    </tr>\n",
       "    <tr>\n",
       "      <th>3</th>\n",
       "      <td>2352</td>\n",
       "      <td>1</td>\n",
       "      <td>1.0</td>\n",
       "      <td>40.409907</td>\n",
       "      <td>34.409907</td>\n",
       "      <td>3.0</td>\n",
       "      <td>10</td>\n",
       "      <td>22.0</td>\n",
       "      <td>1977</td>\n",
       "      <td>0.007122</td>\n",
       "      <td>...</td>\n",
       "      <td>168106.007630</td>\n",
       "      <td>0</td>\n",
       "      <td>0</td>\n",
       "      <td>1</td>\n",
       "      <td>1</td>\n",
       "      <td>652</td>\n",
       "      <td>1</td>\n",
       "      <td>2</td>\n",
       "      <td>3</td>\n",
       "      <td>182427.132446</td>\n",
       "    </tr>\n",
       "    <tr>\n",
       "      <th>4</th>\n",
       "      <td>13866</td>\n",
       "      <td>94</td>\n",
       "      <td>2.0</td>\n",
       "      <td>64.285067</td>\n",
       "      <td>38.562517</td>\n",
       "      <td>9.0</td>\n",
       "      <td>16</td>\n",
       "      <td>16.0</td>\n",
       "      <td>1972</td>\n",
       "      <td>0.282798</td>\n",
       "      <td>...</td>\n",
       "      <td>343995.102962</td>\n",
       "      <td>0</td>\n",
       "      <td>0</td>\n",
       "      <td>0</td>\n",
       "      <td>1</td>\n",
       "      <td>89</td>\n",
       "      <td>0</td>\n",
       "      <td>2</td>\n",
       "      <td>4</td>\n",
       "      <td>171739.199220</td>\n",
       "    </tr>\n",
       "  </tbody>\n",
       "</table>\n",
       "<p>5 rows × 29 columns</p>\n",
       "</div>"
      ],
      "text/plain": [
       "      Id  DistrictId  Rooms      Square  LifeSquare  KitchenSquare  Floor  \\\n",
       "0  11809          27    3.0  115.027311  102.027311           10.0      4   \n",
       "1   3013          22    1.0   39.832524   23.169223            8.0      7   \n",
       "2   8215           1    3.0   78.342215   47.671972           10.0      2   \n",
       "3   2352           1    1.0   40.409907   34.409907            3.0     10   \n",
       "4  13866          94    2.0   64.285067   38.562517            9.0     16   \n",
       "\n",
       "   HouseFloor  HouseYear  Ecology_1  ...          Price  Rooms_outlier  \\\n",
       "0        10.0       2014   0.075424  ...  305018.871089              0   \n",
       "1         8.0       1966   0.118537  ...  177734.553407              0   \n",
       "2        17.0       1988   0.025609  ...  282078.720850              0   \n",
       "3        22.0       1977   0.007122  ...  168106.007630              0   \n",
       "4        16.0       1972   0.282798  ...  343995.102962              0   \n",
       "\n",
       "   HouseFloor_outlier  LifeSquare_nan  Healthcare_1_nan  DistrictSize  \\\n",
       "0                   0               1                 1           851   \n",
       "1                   0               0                 0            78   \n",
       "2                   0               0                 0           652   \n",
       "3                   0               1                 1           652   \n",
       "4                   0               0                 1            89   \n",
       "\n",
       "   IsDistrictLarge  year_cat  floor_cat  MedPriceByFloorYear  \n",
       "0                1         5          1        163788.046294  \n",
       "1                0         2          2        193637.668259  \n",
       "2                1         3          0        201919.865889  \n",
       "3                1         2          3        182427.132446  \n",
       "4                0         2          4        171739.199220  \n",
       "\n",
       "[5 rows x 29 columns]"
      ]
     },
     "execution_count": 80,
     "metadata": {},
     "output_type": "execute_result"
    }
   ],
   "source": [
    "train_df = train_df.merge(med_price_by_floor_year, on=['year_cat', 'floor_cat'], how='left')\n",
    "train_df.head()"
   ]
  },
  {
   "cell_type": "code",
   "execution_count": 81,
   "id": "chinese-warning",
   "metadata": {
    "execution": {
     "iopub.execute_input": "2021-05-20T16:51:13.984512Z",
     "iopub.status.busy": "2021-05-20T16:51:13.983795Z",
     "iopub.status.idle": "2021-05-20T16:51:14.001480Z",
     "shell.execute_reply": "2021-05-20T16:51:14.001972Z",
     "shell.execute_reply.started": "2021-05-20T16:47:52.892003Z"
    },
    "papermill": {
     "duration": 0.112439,
     "end_time": "2021-05-20T16:51:14.002162",
     "exception": false,
     "start_time": "2021-05-20T16:51:13.889723",
     "status": "completed"
    },
    "tags": []
   },
   "outputs": [],
   "source": [
    "class FeatureGenetator():\n",
    "    \"\"\"Генерация новых фич\"\"\"\n",
    "    \n",
    "    def __init__(self):\n",
    "        self.DistrictId_counts = None\n",
    "        self.binary_to_numbers = None\n",
    "        self.med_price_by_floor_year = None\n",
    "        self.house_year_max = None\n",
    "        self.floor_max = None\n",
    "        self.district_size = None\n",
    "        \n",
    "    def fit(self, X, y=None):\n",
    "        \n",
    "        X = X.copy()\n",
    "        \n",
    "        # Binary features\n",
    "        self.binary_to_numbers = {'A': 0, 'B': 1}\n",
    "        \n",
    "        # DistrictID\n",
    "        self.district_size = X['DistrictId'].value_counts().reset_index() \\\n",
    "                               .rename(columns={'index':'DistrictId', 'DistrictId':'DistrictSize'})\n",
    "                \n",
    "        # Target encoding\n",
    "        ## floor, year\n",
    "        df = X.copy()\n",
    "        if y is not None:\n",
    "            self.floor_max = df['Floor'].max()\n",
    "            self.house_year_max = df['HouseYear'].max()\n",
    "            df['Price'] = y.values\n",
    "            df = self.floor_to_cat(df)\n",
    "            df = self.year_to_cat(df)\n",
    "            self.med_price_by_floor_year = df.groupby(['year_cat', 'floor_cat'], as_index=False).agg({'Price':'median'}).\\\n",
    "                                            rename(columns={'Price':'MedPriceByFloorYear'})\n",
    "            self.med_price_by_floor_year_median = self.med_price_by_floor_year['MedPriceByFloorYear'].median()\n",
    "        \n",
    "\n",
    "        \n",
    "    def transform(self, X):\n",
    "        \n",
    "        # Binary features\n",
    "        X['Ecology_2'] = X['Ecology_2'].map(self.binary_to_numbers)  # self.binary_to_numbers = {'A': 0, 'B': 1}\n",
    "        X['Ecology_3'] = X['Ecology_3'].map(self.binary_to_numbers)\n",
    "        X['Shops_2'] = X['Shops_2'].map(self.binary_to_numbers)\n",
    "        \n",
    "        # DistrictId, IsDistrictLarge\n",
    "        X = X.merge(self.district_size, on='DistrictId', how='left')\n",
    "        \n",
    "        X['new_district'] = 0\n",
    "        X.loc[X['DistrictSize'].isna(), 'new_district'] = 1\n",
    "        \n",
    "        X['DistrictSize'].fillna(5, inplace=True)\n",
    "        \n",
    "        X['IsDistrictLarge'] = (X['DistrictSize'] > 100).astype(int)\n",
    "        \n",
    "        # More categorical features\n",
    "        X = self.floor_to_cat(X)  # + столбец floor_cat\n",
    "        X = self.year_to_cat(X)   # + столбец year_cat\n",
    "        \n",
    "        # Target encoding\n",
    "        if self.med_price_by_floor_year is not None:\n",
    "            X = X.merge(self.med_price_by_floor_year, on=['year_cat', 'floor_cat'], how='left')\n",
    "            X.fillna(self.med_price_by_floor_year_median, inplace=True)\n",
    "\n",
    "        return X\n",
    "    \n",
    "    def floor_to_cat(self, X):\n",
    "        bins = [0, 3, 5, 9, 15, self.floor_max]\n",
    "        X['floor_cat'] = pd.cut(X['Floor'], bins=bins, labels=False)\n",
    "\n",
    "        X['floor_cat'].fillna(-1, inplace=True) \n",
    "        return X\n",
    "     \n",
    "    def year_to_cat(self, X):\n",
    "        bins = [0, 1941, 1945, 1980, 2000, 2010, self.house_year_max]\n",
    "        X['year_cat'] = pd.cut(X['HouseYear'], bins=bins, labels=False)\n",
    "\n",
    "        X['year_cat'].fillna(-1, inplace=True)\n",
    "        return X"
   ]
  },
  {
   "cell_type": "markdown",
   "id": "foreign-compilation",
   "metadata": {
    "papermill": {
     "duration": 0.090805,
     "end_time": "2021-05-20T16:51:14.182986",
     "exception": false,
     "start_time": "2021-05-20T16:51:14.092181",
     "status": "completed"
    },
    "tags": []
   },
   "source": [
    "# Отбор признаков"
   ]
  },
  {
   "cell_type": "code",
   "execution_count": 82,
   "id": "collected-fishing",
   "metadata": {
    "execution": {
     "iopub.execute_input": "2021-05-20T16:51:14.366931Z",
     "iopub.status.busy": "2021-05-20T16:51:14.366262Z",
     "iopub.status.idle": "2021-05-20T16:51:14.371105Z",
     "shell.execute_reply": "2021-05-20T16:51:14.371686Z",
     "shell.execute_reply.started": "2021-05-20T16:47:52.907665Z"
    },
    "papermill": {
     "duration": 0.098807,
     "end_time": "2021-05-20T16:51:14.371899",
     "exception": false,
     "start_time": "2021-05-20T16:51:14.273092",
     "status": "completed"
    },
    "tags": []
   },
   "outputs": [
    {
     "data": {
      "text/plain": [
       "['Id',\n",
       " 'DistrictId',\n",
       " 'Rooms',\n",
       " 'Square',\n",
       " 'LifeSquare',\n",
       " 'KitchenSquare',\n",
       " 'Floor',\n",
       " 'HouseFloor',\n",
       " 'HouseYear',\n",
       " 'Ecology_1',\n",
       " 'Ecology_2',\n",
       " 'Ecology_3',\n",
       " 'Social_1',\n",
       " 'Social_2',\n",
       " 'Social_3',\n",
       " 'Healthcare_1',\n",
       " 'Helthcare_2',\n",
       " 'Shops_1',\n",
       " 'Shops_2',\n",
       " 'Price',\n",
       " 'Rooms_outlier',\n",
       " 'HouseFloor_outlier',\n",
       " 'LifeSquare_nan',\n",
       " 'Healthcare_1_nan',\n",
       " 'DistrictSize',\n",
       " 'IsDistrictLarge',\n",
       " 'year_cat',\n",
       " 'floor_cat',\n",
       " 'MedPriceByFloorYear']"
      ]
     },
     "execution_count": 82,
     "metadata": {},
     "output_type": "execute_result"
    }
   ],
   "source": [
    "train_df.columns.tolist()"
   ]
  },
  {
   "cell_type": "code",
   "execution_count": 83,
   "id": "dated-removal",
   "metadata": {
    "execution": {
     "iopub.execute_input": "2021-05-20T16:51:14.556003Z",
     "iopub.status.busy": "2021-05-20T16:51:14.555283Z",
     "iopub.status.idle": "2021-05-20T16:51:14.559821Z",
     "shell.execute_reply": "2021-05-20T16:51:14.560347Z",
     "shell.execute_reply.started": "2021-05-20T16:47:52.921477Z"
    },
    "papermill": {
     "duration": 0.097878,
     "end_time": "2021-05-20T16:51:14.560530",
     "exception": false,
     "start_time": "2021-05-20T16:51:14.462652",
     "status": "completed"
    },
    "tags": []
   },
   "outputs": [],
   "source": [
    "feature_names = ['Rooms', 'Square', 'LifeSquare', 'KitchenSquare', 'Floor', 'HouseFloor', 'HouseYear',\n",
    "                 'Ecology_1', 'Ecology_2', 'Ecology_3', 'Social_1', 'Social_2', 'Social_3', 'Healthcare_1',\n",
    "                 'Helthcare_2', 'Shops_1', 'Shops_2']\n",
    "\n",
    "new_feature_names = ['Rooms_outlier', 'HouseFloor_outlier', 'HouseYear_outlier', 'LifeSquare_nan', 'Healthcare_1_nan', 'DistrictSize',\n",
    "                     'new_district', 'IsDistrictLarge', 'MedPriceByFloorYear']\n",
    "\n",
    "target_name = 'Price'"
   ]
  },
  {
   "cell_type": "markdown",
   "id": "liquid-mistress",
   "metadata": {
    "papermill": {
     "duration": 0.090024,
     "end_time": "2021-05-20T16:51:14.740485",
     "exception": false,
     "start_time": "2021-05-20T16:51:14.650461",
     "status": "completed"
    },
    "tags": []
   },
   "source": [
    "# Разбиение на train и test"
   ]
  },
  {
   "cell_type": "code",
   "execution_count": 84,
   "id": "smooth-birth",
   "metadata": {
    "execution": {
     "iopub.execute_input": "2021-05-20T16:51:14.923823Z",
     "iopub.status.busy": "2021-05-20T16:51:14.923191Z",
     "iopub.status.idle": "2021-05-20T16:51:14.979654Z",
     "shell.execute_reply": "2021-05-20T16:51:14.980198Z",
     "shell.execute_reply.started": "2021-05-20T16:47:52.929378Z"
    },
    "papermill": {
     "duration": 0.14967,
     "end_time": "2021-05-20T16:51:14.980391",
     "exception": false,
     "start_time": "2021-05-20T16:51:14.830721",
     "status": "completed"
    },
    "tags": []
   },
   "outputs": [],
   "source": [
    "train_df = pd.read_csv(TRAIN_DATASET_PATH)\n",
    "test_df = pd.read_csv(TEST_DATASET_PATH)\n",
    "\n",
    "X = train_df.drop(columns=target_name)\n",
    "y = train_df[target_name]"
   ]
  },
  {
   "cell_type": "code",
   "execution_count": 85,
   "id": "immediate-rapid",
   "metadata": {
    "execution": {
     "iopub.execute_input": "2021-05-20T16:51:15.169717Z",
     "iopub.status.busy": "2021-05-20T16:51:15.168712Z",
     "iopub.status.idle": "2021-05-20T16:51:15.174543Z",
     "shell.execute_reply": "2021-05-20T16:51:15.175059Z",
     "shell.execute_reply.started": "2021-05-20T16:47:52.978790Z"
    },
    "papermill": {
     "duration": 0.104315,
     "end_time": "2021-05-20T16:51:15.175231",
     "exception": false,
     "start_time": "2021-05-20T16:51:15.070916",
     "status": "completed"
    },
    "tags": []
   },
   "outputs": [],
   "source": [
    "X_train, X_valid, y_train, y_valid = train_test_split(X, y, test_size=0.33, shuffle=True, random_state=42)"
   ]
  },
  {
   "cell_type": "code",
   "execution_count": 86,
   "id": "corresponding-auckland",
   "metadata": {
    "execution": {
     "iopub.execute_input": "2021-05-20T16:51:15.363146Z",
     "iopub.status.busy": "2021-05-20T16:51:15.362124Z",
     "iopub.status.idle": "2021-05-20T16:51:15.454862Z",
     "shell.execute_reply": "2021-05-20T16:51:15.454280Z",
     "shell.execute_reply.started": "2021-05-20T16:47:52.989287Z"
    },
    "papermill": {
     "duration": 0.187942,
     "end_time": "2021-05-20T16:51:15.455001",
     "exception": false,
     "start_time": "2021-05-20T16:51:15.267059",
     "status": "completed"
    },
    "tags": []
   },
   "outputs": [
    {
     "data": {
      "text/plain": [
       "((6700, 24), (3300, 24), (5000, 24))"
      ]
     },
     "execution_count": 86,
     "metadata": {},
     "output_type": "execute_result"
    }
   ],
   "source": [
    "preprocessor = DataPreprocessing()\n",
    "preprocessor.fit(X_train)\n",
    "\n",
    "X_train = preprocessor.transform(X_train)\n",
    "X_valid = preprocessor.transform(X_valid)\n",
    "test_df = preprocessor.transform(test_df)\n",
    "\n",
    "X_train.shape, X_valid.shape, test_df.shape"
   ]
  },
  {
   "cell_type": "code",
   "execution_count": 87,
   "id": "heard-remove",
   "metadata": {
    "execution": {
     "iopub.execute_input": "2021-05-20T16:51:15.641551Z",
     "iopub.status.busy": "2021-05-20T16:51:15.640905Z",
     "iopub.status.idle": "2021-05-20T16:51:15.732373Z",
     "shell.execute_reply": "2021-05-20T16:51:15.731844Z",
     "shell.execute_reply.started": "2021-05-20T16:47:53.072603Z"
    },
    "papermill": {
     "duration": 0.187057,
     "end_time": "2021-05-20T16:51:15.732518",
     "exception": false,
     "start_time": "2021-05-20T16:51:15.545461",
     "status": "completed"
    },
    "tags": []
   },
   "outputs": [
    {
     "data": {
      "text/plain": [
       "((6700, 30), (3300, 30), (5000, 30))"
      ]
     },
     "execution_count": 87,
     "metadata": {},
     "output_type": "execute_result"
    }
   ],
   "source": [
    "features_gen = FeatureGenetator()\n",
    "features_gen.fit(X_train, y_train)\n",
    "\n",
    "X_train = features_gen.transform(X_train)\n",
    "X_valid = features_gen.transform(X_valid)\n",
    "test_df = features_gen.transform(test_df)\n",
    "\n",
    "X_train.shape, X_valid.shape, test_df.shape"
   ]
  },
  {
   "cell_type": "code",
   "execution_count": 88,
   "id": "velvet-making",
   "metadata": {
    "execution": {
     "iopub.execute_input": "2021-05-20T16:51:15.924280Z",
     "iopub.status.busy": "2021-05-20T16:51:15.923611Z",
     "iopub.status.idle": "2021-05-20T16:51:15.926186Z",
     "shell.execute_reply": "2021-05-20T16:51:15.926645Z",
     "shell.execute_reply.started": "2021-05-20T16:47:53.154851Z"
    },
    "papermill": {
     "duration": 0.10316,
     "end_time": "2021-05-20T16:51:15.926825",
     "exception": false,
     "start_time": "2021-05-20T16:51:15.823665",
     "status": "completed"
    },
    "tags": []
   },
   "outputs": [],
   "source": [
    "X_train = X_train[feature_names + new_feature_names]\n",
    "X_valid = X_valid[feature_names + new_feature_names]\n",
    "test_df = test_df[feature_names + new_feature_names]"
   ]
  },
  {
   "cell_type": "code",
   "execution_count": 89,
   "id": "simple-outside",
   "metadata": {
    "execution": {
     "iopub.execute_input": "2021-05-20T16:51:16.113375Z",
     "iopub.status.busy": "2021-05-20T16:51:16.112607Z",
     "iopub.status.idle": "2021-05-20T16:51:16.121716Z",
     "shell.execute_reply": "2021-05-20T16:51:16.121084Z",
     "shell.execute_reply.started": "2021-05-20T16:47:53.165363Z"
    },
    "papermill": {
     "duration": 0.104792,
     "end_time": "2021-05-20T16:51:16.121858",
     "exception": false,
     "start_time": "2021-05-20T16:51:16.017066",
     "status": "completed"
    },
    "tags": []
   },
   "outputs": [
    {
     "data": {
      "text/plain": [
       "(0, 0, 0)"
      ]
     },
     "execution_count": 89,
     "metadata": {},
     "output_type": "execute_result"
    }
   ],
   "source": [
    "X_train.isna().sum().sum(), X_valid.isna().sum().sum(), test_df.isna().sum().sum()"
   ]
  },
  {
   "cell_type": "markdown",
   "id": "deadly-harbor",
   "metadata": {
    "papermill": {
     "duration": 0.09109,
     "end_time": "2021-05-20T16:51:16.304999",
     "exception": false,
     "start_time": "2021-05-20T16:51:16.213909",
     "status": "completed"
    },
    "tags": []
   },
   "source": [
    "# Построение модели"
   ]
  },
  {
   "cell_type": "code",
   "execution_count": 90,
   "id": "dirty-interface",
   "metadata": {
    "execution": {
     "iopub.execute_input": "2021-05-20T16:51:16.496964Z",
     "iopub.status.busy": "2021-05-20T16:51:16.496205Z",
     "iopub.status.idle": "2021-05-20T16:51:19.235062Z",
     "shell.execute_reply": "2021-05-20T16:51:19.235607Z",
     "shell.execute_reply.started": "2021-05-20T16:47:53.179962Z"
    },
    "papermill": {
     "duration": 2.839412,
     "end_time": "2021-05-20T16:51:19.235794",
     "exception": false,
     "start_time": "2021-05-20T16:51:16.396382",
     "status": "completed"
    },
    "tags": []
   },
   "outputs": [
    {
     "data": {
      "text/plain": [
       "GradientBoostingRegressor(criterion='mse', max_depth=7, min_samples_leaf=30,\n",
       "                          n_estimators=95, random_state=42)"
      ]
     },
     "execution_count": 90,
     "metadata": {},
     "output_type": "execute_result"
    }
   ],
   "source": [
    "gb_model = GradientBoostingRegressor(criterion='mse',\n",
    "                                        max_depth=7,\n",
    "                                        min_samples_leaf=30,\n",
    "                                        random_state=42,\n",
    "                                        n_estimators=95)\n",
    "gb_model.fit(X_train, y_train)"
   ]
  },
  {
   "cell_type": "markdown",
   "id": "secure-orange",
   "metadata": {
    "papermill": {
     "duration": 0.092048,
     "end_time": "2021-05-20T16:51:19.420469",
     "exception": false,
     "start_time": "2021-05-20T16:51:19.328421",
     "status": "completed"
    },
    "tags": []
   },
   "source": [
    "### Оценка модели"
   ]
  },
  {
   "cell_type": "code",
   "execution_count": 91,
   "id": "enclosed-processor",
   "metadata": {
    "execution": {
     "iopub.execute_input": "2021-05-20T16:51:19.610037Z",
     "iopub.status.busy": "2021-05-20T16:51:19.609414Z",
     "iopub.status.idle": "2021-05-20T16:51:20.027080Z",
     "shell.execute_reply": "2021-05-20T16:51:20.026553Z",
     "shell.execute_reply.started": "2021-05-20T16:47:55.904946Z"
    },
    "papermill": {
     "duration": 0.515002,
     "end_time": "2021-05-20T16:51:20.027215",
     "exception": false,
     "start_time": "2021-05-20T16:51:19.512213",
     "status": "completed"
    },
    "tags": []
   },
   "outputs": [
    {
     "name": "stdout",
     "output_type": "stream",
     "text": [
      "Train R2:\t0.853\n",
      "Test R2:\t0.736\n"
     ]
    },
    {
     "data": {
      "image/png": "[encoded data removed]",
      "text/plain": [
       "<Figure size 1296x720 with 2 Axes>"
      ]
     },
     "metadata": {
      "needs_background": "light"
     },
     "output_type": "display_data"
    }
   ],
   "source": [
    "y_train_preds = gb_model.predict(X_train)\n",
    "y_test_preds = gb_model.predict(X_valid)\n",
    "\n",
    "evaluate_preds(y_train, y_train_preds, y_valid, y_test_preds)"
   ]
  },
  {
   "cell_type": "markdown",
   "id": "operational-think",
   "metadata": {
    "papermill": {
     "duration": 0.096479,
     "end_time": "2021-05-20T16:51:20.221077",
     "exception": false,
     "start_time": "2021-05-20T16:51:20.124598",
     "status": "completed"
    },
    "tags": []
   },
   "source": [
    "### Кросс-валидация"
   ]
  },
  {
   "cell_type": "code",
   "execution_count": 92,
   "id": "dependent-above",
   "metadata": {
    "execution": {
     "iopub.execute_input": "2021-05-20T16:51:20.420729Z",
     "iopub.status.busy": "2021-05-20T16:51:20.420023Z",
     "iopub.status.idle": "2021-05-20T16:51:25.933408Z",
     "shell.execute_reply": "2021-05-20T16:51:25.932688Z",
     "shell.execute_reply.started": "2021-05-20T16:47:56.251622Z"
    },
    "papermill": {
     "duration": 5.615671,
     "end_time": "2021-05-20T16:51:25.933566",
     "exception": false,
     "start_time": "2021-05-20T16:51:20.317895",
     "status": "completed"
    },
    "tags": []
   },
   "outputs": [
    {
     "data": {
      "text/plain": [
       "array([0.71119862, 0.74451896, 0.73149283])"
      ]
     },
     "execution_count": 92,
     "metadata": {},
     "output_type": "execute_result"
    }
   ],
   "source": [
    "cv_score = cross_val_score(gb_model, X_train, y_train, scoring='r2', cv=KFold(n_splits=3, shuffle=True, random_state=21))\n",
    "cv_score"
   ]
  },
  {
   "cell_type": "code",
   "execution_count": 93,
   "id": "brutal-release",
   "metadata": {
    "execution": {
     "iopub.execute_input": "2021-05-20T16:51:26.134896Z",
     "iopub.status.busy": "2021-05-20T16:51:26.133971Z",
     "iopub.status.idle": "2021-05-20T16:51:26.138199Z",
     "shell.execute_reply": "2021-05-20T16:51:26.137582Z",
     "shell.execute_reply.started": "2021-05-20T16:48:01.729421Z"
    },
    "papermill": {
     "duration": 0.106934,
     "end_time": "2021-05-20T16:51:26.138351",
     "exception": false,
     "start_time": "2021-05-20T16:51:26.031417",
     "status": "completed"
    },
    "tags": []
   },
   "outputs": [
    {
     "data": {
      "text/plain": [
       "0.729070138421418"
      ]
     },
     "execution_count": 93,
     "metadata": {},
     "output_type": "execute_result"
    }
   ],
   "source": [
    "cv_score.mean()"
   ]
  },
  {
   "cell_type": "markdown",
   "id": "hybrid-bradley",
   "metadata": {
    "papermill": {
     "duration": 0.097014,
     "end_time": "2021-05-20T16:51:26.332638",
     "exception": false,
     "start_time": "2021-05-20T16:51:26.235624",
     "status": "completed"
    },
    "tags": []
   },
   "source": [
    "### Важность признаков"
   ]
  },
  {
   "cell_type": "code",
   "execution_count": 94,
   "id": "scheduled-planner",
   "metadata": {
    "execution": {
     "iopub.execute_input": "2021-05-20T16:51:26.534975Z",
     "iopub.status.busy": "2021-05-20T16:51:26.533956Z",
     "iopub.status.idle": "2021-05-20T16:51:26.549119Z",
     "shell.execute_reply": "2021-05-20T16:51:26.549595Z",
     "shell.execute_reply.started": "2021-05-20T16:48:01.736879Z"
    },
    "papermill": {
     "duration": 0.119611,
     "end_time": "2021-05-20T16:51:26.549771",
     "exception": false,
     "start_time": "2021-05-20T16:51:26.430160",
     "status": "completed"
    },
    "tags": []
   },
   "outputs": [
    {
     "data": {
      "text/html": [
       "<div>\n",
       "<style scoped>\n",
       "    .dataframe tbody tr th:only-of-type {\n",
       "        vertical-align: middle;\n",
       "    }\n",
       "\n",
       "    .dataframe tbody tr th {\n",
       "        vertical-align: top;\n",
       "    }\n",
       "\n",
       "    .dataframe thead th {\n",
       "        text-align: right;\n",
       "    }\n",
       "</style>\n",
       "<table border=\"1\" class=\"dataframe\">\n",
       "  <thead>\n",
       "    <tr style=\"text-align: right;\">\n",
       "      <th></th>\n",
       "      <th>feature_name</th>\n",
       "      <th>importance</th>\n",
       "    </tr>\n",
       "  </thead>\n",
       "  <tbody>\n",
       "    <tr>\n",
       "      <th>1</th>\n",
       "      <td>Square</td>\n",
       "      <td>0.453581</td>\n",
       "    </tr>\n",
       "    <tr>\n",
       "      <th>22</th>\n",
       "      <td>DistrictSize</td>\n",
       "      <td>0.269076</td>\n",
       "    </tr>\n",
       "    <tr>\n",
       "      <th>12</th>\n",
       "      <td>Social_3</td>\n",
       "      <td>0.057546</td>\n",
       "    </tr>\n",
       "    <tr>\n",
       "      <th>7</th>\n",
       "      <td>Ecology_1</td>\n",
       "      <td>0.034190</td>\n",
       "    </tr>\n",
       "    <tr>\n",
       "      <th>11</th>\n",
       "      <td>Social_2</td>\n",
       "      <td>0.026233</td>\n",
       "    </tr>\n",
       "    <tr>\n",
       "      <th>10</th>\n",
       "      <td>Social_1</td>\n",
       "      <td>0.021217</td>\n",
       "    </tr>\n",
       "    <tr>\n",
       "      <th>0</th>\n",
       "      <td>Rooms</td>\n",
       "      <td>0.019850</td>\n",
       "    </tr>\n",
       "    <tr>\n",
       "      <th>5</th>\n",
       "      <td>HouseFloor</td>\n",
       "      <td>0.018876</td>\n",
       "    </tr>\n",
       "    <tr>\n",
       "      <th>25</th>\n",
       "      <td>MedPriceByFloorYear</td>\n",
       "      <td>0.017980</td>\n",
       "    </tr>\n",
       "    <tr>\n",
       "      <th>2</th>\n",
       "      <td>LifeSquare</td>\n",
       "      <td>0.017495</td>\n",
       "    </tr>\n",
       "    <tr>\n",
       "      <th>6</th>\n",
       "      <td>HouseYear</td>\n",
       "      <td>0.017172</td>\n",
       "    </tr>\n",
       "    <tr>\n",
       "      <th>13</th>\n",
       "      <td>Healthcare_1</td>\n",
       "      <td>0.013053</td>\n",
       "    </tr>\n",
       "    <tr>\n",
       "      <th>3</th>\n",
       "      <td>KitchenSquare</td>\n",
       "      <td>0.012719</td>\n",
       "    </tr>\n",
       "    <tr>\n",
       "      <th>15</th>\n",
       "      <td>Shops_1</td>\n",
       "      <td>0.006192</td>\n",
       "    </tr>\n",
       "    <tr>\n",
       "      <th>4</th>\n",
       "      <td>Floor</td>\n",
       "      <td>0.006104</td>\n",
       "    </tr>\n",
       "    <tr>\n",
       "      <th>14</th>\n",
       "      <td>Helthcare_2</td>\n",
       "      <td>0.004624</td>\n",
       "    </tr>\n",
       "    <tr>\n",
       "      <th>21</th>\n",
       "      <td>Healthcare_1_nan</td>\n",
       "      <td>0.001749</td>\n",
       "    </tr>\n",
       "    <tr>\n",
       "      <th>16</th>\n",
       "      <td>Shops_2</td>\n",
       "      <td>0.000686</td>\n",
       "    </tr>\n",
       "    <tr>\n",
       "      <th>18</th>\n",
       "      <td>HouseFloor_outlier</td>\n",
       "      <td>0.000569</td>\n",
       "    </tr>\n",
       "    <tr>\n",
       "      <th>9</th>\n",
       "      <td>Ecology_3</td>\n",
       "      <td>0.000416</td>\n",
       "    </tr>\n",
       "    <tr>\n",
       "      <th>24</th>\n",
       "      <td>IsDistrictLarge</td>\n",
       "      <td>0.000338</td>\n",
       "    </tr>\n",
       "    <tr>\n",
       "      <th>20</th>\n",
       "      <td>LifeSquare_nan</td>\n",
       "      <td>0.000269</td>\n",
       "    </tr>\n",
       "    <tr>\n",
       "      <th>8</th>\n",
       "      <td>Ecology_2</td>\n",
       "      <td>0.000067</td>\n",
       "    </tr>\n",
       "    <tr>\n",
       "      <th>19</th>\n",
       "      <td>HouseYear_outlier</td>\n",
       "      <td>0.000000</td>\n",
       "    </tr>\n",
       "    <tr>\n",
       "      <th>23</th>\n",
       "      <td>new_district</td>\n",
       "      <td>0.000000</td>\n",
       "    </tr>\n",
       "    <tr>\n",
       "      <th>17</th>\n",
       "      <td>Rooms_outlier</td>\n",
       "      <td>0.000000</td>\n",
       "    </tr>\n",
       "  </tbody>\n",
       "</table>\n",
       "</div>"
      ],
      "text/plain": [
       "           feature_name  importance\n",
       "1                Square    0.453581\n",
       "22         DistrictSize    0.269076\n",
       "12             Social_3    0.057546\n",
       "7             Ecology_1    0.034190\n",
       "11             Social_2    0.026233\n",
       "10             Social_1    0.021217\n",
       "0                 Rooms    0.019850\n",
       "5            HouseFloor    0.018876\n",
       "25  MedPriceByFloorYear    0.017980\n",
       "2            LifeSquare    0.017495\n",
       "6             HouseYear    0.017172\n",
       "13         Healthcare_1    0.013053\n",
       "3         KitchenSquare    0.012719\n",
       "15              Shops_1    0.006192\n",
       "4                 Floor    0.006104\n",
       "14          Helthcare_2    0.004624\n",
       "21     Healthcare_1_nan    0.001749\n",
       "16              Shops_2    0.000686\n",
       "18   HouseFloor_outlier    0.000569\n",
       "9             Ecology_3    0.000416\n",
       "24      IsDistrictLarge    0.000338\n",
       "20       LifeSquare_nan    0.000269\n",
       "8             Ecology_2    0.000067\n",
       "19    HouseYear_outlier    0.000000\n",
       "23         new_district    0.000000\n",
       "17        Rooms_outlier    0.000000"
      ]
     },
     "execution_count": 94,
     "metadata": {},
     "output_type": "execute_result"
    }
   ],
   "source": [
    "feature_importances = pd.DataFrame(zip(X_train.columns, \n",
    "                                       gb_model.feature_importances_), \n",
    "                                   columns=['feature_name', 'importance'])\n",
    "\n",
    "feature_importances.sort_values(by='importance', ascending=False, inplace=True)\n",
    "feature_importances"
   ]
  },
  {
   "cell_type": "markdown",
   "id": "settled-legend",
   "metadata": {
    "papermill": {
     "duration": 0.098135,
     "end_time": "2021-05-20T16:51:26.745441",
     "exception": false,
     "start_time": "2021-05-20T16:51:26.647306",
     "status": "completed"
    },
    "tags": []
   },
   "source": [
    "# Прогнозирование на тестовом датасете"
   ]
  },
  {
   "cell_type": "code",
   "execution_count": 95,
   "id": "senior-contest",
   "metadata": {
    "execution": {
     "iopub.execute_input": "2021-05-20T16:51:26.946950Z",
     "iopub.status.busy": "2021-05-20T16:51:26.946029Z",
     "iopub.status.idle": "2021-05-20T16:51:26.950040Z",
     "shell.execute_reply": "2021-05-20T16:51:26.949433Z",
     "shell.execute_reply.started": "2021-05-20T16:48:01.759095Z"
    },
    "papermill": {
     "duration": 0.106954,
     "end_time": "2021-05-20T16:51:26.950177",
     "exception": false,
     "start_time": "2021-05-20T16:51:26.843223",
     "status": "completed"
    },
    "tags": []
   },
   "outputs": [
    {
     "data": {
      "text/plain": [
       "(5000, 26)"
      ]
     },
     "execution_count": 95,
     "metadata": {},
     "output_type": "execute_result"
    }
   ],
   "source": [
    "test_df.shape"
   ]
  },
  {
   "cell_type": "code",
   "execution_count": 96,
   "id": "objective-thunder",
   "metadata": {
    "execution": {
     "iopub.execute_input": "2021-05-20T16:51:27.183561Z",
     "iopub.status.busy": "2021-05-20T16:51:27.167218Z",
     "iopub.status.idle": "2021-05-20T16:51:27.194298Z",
     "shell.execute_reply": "2021-05-20T16:51:27.193694Z",
     "shell.execute_reply.started": "2021-05-20T16:48:01.766370Z"
    },
    "papermill": {
     "duration": 0.144894,
     "end_time": "2021-05-20T16:51:27.194463",
     "exception": false,
     "start_time": "2021-05-20T16:51:27.049569",
     "status": "completed"
    },
    "tags": []
   },
   "outputs": [
    {
     "data": {
      "text/html": [
       "<div>\n",
       "<style scoped>\n",
       "    .dataframe tbody tr th:only-of-type {\n",
       "        vertical-align: middle;\n",
       "    }\n",
       "\n",
       "    .dataframe tbody tr th {\n",
       "        vertical-align: top;\n",
       "    }\n",
       "\n",
       "    .dataframe thead th {\n",
       "        text-align: right;\n",
       "    }\n",
       "</style>\n",
       "<table border=\"1\" class=\"dataframe\">\n",
       "  <thead>\n",
       "    <tr style=\"text-align: right;\">\n",
       "      <th></th>\n",
       "      <th>Rooms</th>\n",
       "      <th>Square</th>\n",
       "      <th>LifeSquare</th>\n",
       "      <th>KitchenSquare</th>\n",
       "      <th>Floor</th>\n",
       "      <th>HouseFloor</th>\n",
       "      <th>HouseYear</th>\n",
       "      <th>Ecology_1</th>\n",
       "      <th>Ecology_2</th>\n",
       "      <th>Ecology_3</th>\n",
       "      <th>...</th>\n",
       "      <th>Shops_2</th>\n",
       "      <th>Rooms_outlier</th>\n",
       "      <th>HouseFloor_outlier</th>\n",
       "      <th>HouseYear_outlier</th>\n",
       "      <th>LifeSquare_nan</th>\n",
       "      <th>Healthcare_1_nan</th>\n",
       "      <th>DistrictSize</th>\n",
       "      <th>new_district</th>\n",
       "      <th>IsDistrictLarge</th>\n",
       "      <th>MedPriceByFloorYear</th>\n",
       "    </tr>\n",
       "  </thead>\n",
       "  <tbody>\n",
       "    <tr>\n",
       "      <th>0</th>\n",
       "      <td>1.0</td>\n",
       "      <td>36.847630</td>\n",
       "      <td>19.094182</td>\n",
       "      <td>5.0</td>\n",
       "      <td>5</td>\n",
       "      <td>9.0</td>\n",
       "      <td>1970</td>\n",
       "      <td>0.036122</td>\n",
       "      <td>1</td>\n",
       "      <td>1</td>\n",
       "      <td>...</td>\n",
       "      <td>1</td>\n",
       "      <td>0</td>\n",
       "      <td>0</td>\n",
       "      <td>0</td>\n",
       "      <td>0</td>\n",
       "      <td>0</td>\n",
       "      <td>70.0</td>\n",
       "      <td>0</td>\n",
       "      <td>0</td>\n",
       "      <td>190281.854804</td>\n",
       "    </tr>\n",
       "    <tr>\n",
       "      <th>1</th>\n",
       "      <td>1.0</td>\n",
       "      <td>42.568133</td>\n",
       "      <td>42.493907</td>\n",
       "      <td>10.0</td>\n",
       "      <td>7</td>\n",
       "      <td>17.0</td>\n",
       "      <td>2017</td>\n",
       "      <td>0.072158</td>\n",
       "      <td>1</td>\n",
       "      <td>1</td>\n",
       "      <td>...</td>\n",
       "      <td>0</td>\n",
       "      <td>0</td>\n",
       "      <td>0</td>\n",
       "      <td>0</td>\n",
       "      <td>0</td>\n",
       "      <td>1</td>\n",
       "      <td>164.0</td>\n",
       "      <td>0</td>\n",
       "      <td>1</td>\n",
       "      <td>172932.855768</td>\n",
       "    </tr>\n",
       "    <tr>\n",
       "      <th>2</th>\n",
       "      <td>2.0</td>\n",
       "      <td>59.463678</td>\n",
       "      <td>47.463678</td>\n",
       "      <td>9.0</td>\n",
       "      <td>19</td>\n",
       "      <td>19.0</td>\n",
       "      <td>1977</td>\n",
       "      <td>0.211401</td>\n",
       "      <td>1</td>\n",
       "      <td>1</td>\n",
       "      <td>...</td>\n",
       "      <td>1</td>\n",
       "      <td>0</td>\n",
       "      <td>0</td>\n",
       "      <td>0</td>\n",
       "      <td>1</td>\n",
       "      <td>1</td>\n",
       "      <td>568.0</td>\n",
       "      <td>0</td>\n",
       "      <td>1</td>\n",
       "      <td>171739.199220</td>\n",
       "    </tr>\n",
       "    <tr>\n",
       "      <th>3</th>\n",
       "      <td>3.0</td>\n",
       "      <td>49.646030</td>\n",
       "      <td>33.893825</td>\n",
       "      <td>6.0</td>\n",
       "      <td>2</td>\n",
       "      <td>2.0</td>\n",
       "      <td>1965</td>\n",
       "      <td>0.014073</td>\n",
       "      <td>1</td>\n",
       "      <td>1</td>\n",
       "      <td>...</td>\n",
       "      <td>1</td>\n",
       "      <td>0</td>\n",
       "      <td>0</td>\n",
       "      <td>0</td>\n",
       "      <td>0</td>\n",
       "      <td>1</td>\n",
       "      <td>375.0</td>\n",
       "      <td>0</td>\n",
       "      <td>1</td>\n",
       "      <td>180322.969962</td>\n",
       "    </tr>\n",
       "    <tr>\n",
       "      <th>4</th>\n",
       "      <td>1.0</td>\n",
       "      <td>53.837056</td>\n",
       "      <td>47.837056</td>\n",
       "      <td>3.0</td>\n",
       "      <td>8</td>\n",
       "      <td>17.0</td>\n",
       "      <td>1977</td>\n",
       "      <td>0.309479</td>\n",
       "      <td>1</td>\n",
       "      <td>1</td>\n",
       "      <td>...</td>\n",
       "      <td>1</td>\n",
       "      <td>0</td>\n",
       "      <td>0</td>\n",
       "      <td>0</td>\n",
       "      <td>1</td>\n",
       "      <td>0</td>\n",
       "      <td>76.0</td>\n",
       "      <td>0</td>\n",
       "      <td>0</td>\n",
       "      <td>191709.512465</td>\n",
       "    </tr>\n",
       "    <tr>\n",
       "      <th>...</th>\n",
       "      <td>...</td>\n",
       "      <td>...</td>\n",
       "      <td>...</td>\n",
       "      <td>...</td>\n",
       "      <td>...</td>\n",
       "      <td>...</td>\n",
       "      <td>...</td>\n",
       "      <td>...</td>\n",
       "      <td>...</td>\n",
       "      <td>...</td>\n",
       "      <td>...</td>\n",
       "      <td>...</td>\n",
       "      <td>...</td>\n",
       "      <td>...</td>\n",
       "      <td>...</td>\n",
       "      <td>...</td>\n",
       "      <td>...</td>\n",
       "      <td>...</td>\n",
       "      <td>...</td>\n",
       "      <td>...</td>\n",
       "      <td>...</td>\n",
       "    </tr>\n",
       "    <tr>\n",
       "      <th>4995</th>\n",
       "      <td>2.0</td>\n",
       "      <td>43.177521</td>\n",
       "      <td>30.339945</td>\n",
       "      <td>5.0</td>\n",
       "      <td>4</td>\n",
       "      <td>5.0</td>\n",
       "      <td>1962</td>\n",
       "      <td>0.069660</td>\n",
       "      <td>1</td>\n",
       "      <td>1</td>\n",
       "      <td>...</td>\n",
       "      <td>1</td>\n",
       "      <td>0</td>\n",
       "      <td>1</td>\n",
       "      <td>0</td>\n",
       "      <td>0</td>\n",
       "      <td>1</td>\n",
       "      <td>59.0</td>\n",
       "      <td>0</td>\n",
       "      <td>0</td>\n",
       "      <td>190281.854804</td>\n",
       "    </tr>\n",
       "    <tr>\n",
       "      <th>4996</th>\n",
       "      <td>3.0</td>\n",
       "      <td>94.521465</td>\n",
       "      <td>93.698122</td>\n",
       "      <td>10.0</td>\n",
       "      <td>21</td>\n",
       "      <td>27.0</td>\n",
       "      <td>2018</td>\n",
       "      <td>0.060753</td>\n",
       "      <td>1</td>\n",
       "      <td>1</td>\n",
       "      <td>...</td>\n",
       "      <td>1</td>\n",
       "      <td>0</td>\n",
       "      <td>0</td>\n",
       "      <td>0</td>\n",
       "      <td>0</td>\n",
       "      <td>0</td>\n",
       "      <td>25.0</td>\n",
       "      <td>0</td>\n",
       "      <td>0</td>\n",
       "      <td>218975.318679</td>\n",
       "    </tr>\n",
       "    <tr>\n",
       "      <th>4997</th>\n",
       "      <td>1.0</td>\n",
       "      <td>33.656723</td>\n",
       "      <td>19.003259</td>\n",
       "      <td>5.0</td>\n",
       "      <td>2</td>\n",
       "      <td>5.0</td>\n",
       "      <td>1966</td>\n",
       "      <td>0.038693</td>\n",
       "      <td>1</td>\n",
       "      <td>1</td>\n",
       "      <td>...</td>\n",
       "      <td>1</td>\n",
       "      <td>0</td>\n",
       "      <td>0</td>\n",
       "      <td>0</td>\n",
       "      <td>0</td>\n",
       "      <td>0</td>\n",
       "      <td>69.0</td>\n",
       "      <td>0</td>\n",
       "      <td>0</td>\n",
       "      <td>180322.969962</td>\n",
       "    </tr>\n",
       "    <tr>\n",
       "      <th>4998</th>\n",
       "      <td>1.0</td>\n",
       "      <td>38.635155</td>\n",
       "      <td>20.976257</td>\n",
       "      <td>9.0</td>\n",
       "      <td>8</td>\n",
       "      <td>14.0</td>\n",
       "      <td>1970</td>\n",
       "      <td>0.089040</td>\n",
       "      <td>1</td>\n",
       "      <td>1</td>\n",
       "      <td>...</td>\n",
       "      <td>1</td>\n",
       "      <td>0</td>\n",
       "      <td>0</td>\n",
       "      <td>0</td>\n",
       "      <td>0</td>\n",
       "      <td>1</td>\n",
       "      <td>35.0</td>\n",
       "      <td>0</td>\n",
       "      <td>0</td>\n",
       "      <td>191709.512465</td>\n",
       "    </tr>\n",
       "    <tr>\n",
       "      <th>4999</th>\n",
       "      <td>2.0</td>\n",
       "      <td>67.122742</td>\n",
       "      <td>33.944344</td>\n",
       "      <td>6.0</td>\n",
       "      <td>9</td>\n",
       "      <td>17.0</td>\n",
       "      <td>2009</td>\n",
       "      <td>0.194489</td>\n",
       "      <td>1</td>\n",
       "      <td>1</td>\n",
       "      <td>...</td>\n",
       "      <td>1</td>\n",
       "      <td>0</td>\n",
       "      <td>0</td>\n",
       "      <td>0</td>\n",
       "      <td>0</td>\n",
       "      <td>0</td>\n",
       "      <td>120.0</td>\n",
       "      <td>0</td>\n",
       "      <td>1</td>\n",
       "      <td>229167.624266</td>\n",
       "    </tr>\n",
       "  </tbody>\n",
       "</table>\n",
       "<p>5000 rows × 26 columns</p>\n",
       "</div>"
      ],
      "text/plain": [
       "      Rooms     Square  LifeSquare  KitchenSquare  Floor  HouseFloor  \\\n",
       "0       1.0  36.847630   19.094182            5.0      5         9.0   \n",
       "1       1.0  42.568133   42.493907           10.0      7        17.0   \n",
       "2       2.0  59.463678   47.463678            9.0     19        19.0   \n",
       "3       3.0  49.646030   33.893825            6.0      2         2.0   \n",
       "4       1.0  53.837056   47.837056            3.0      8        17.0   \n",
       "...     ...        ...         ...            ...    ...         ...   \n",
       "4995    2.0  43.177521   30.339945            5.0      4         5.0   \n",
       "4996    3.0  94.521465   93.698122           10.0     21        27.0   \n",
       "4997    1.0  33.656723   19.003259            5.0      2         5.0   \n",
       "4998    1.0  38.635155   20.976257            9.0      8        14.0   \n",
       "4999    2.0  67.122742   33.944344            6.0      9        17.0   \n",
       "\n",
       "      HouseYear  Ecology_1  Ecology_2  Ecology_3  ...  Shops_2  Rooms_outlier  \\\n",
       "0          1970   0.036122          1          1  ...        1              0   \n",
       "1          2017   0.072158          1          1  ...        0              0   \n",
       "2          1977   0.211401          1          1  ...        1              0   \n",
       "3          1965   0.014073          1          1  ...        1              0   \n",
       "4          1977   0.309479          1          1  ...        1              0   \n",
       "...         ...        ...        ...        ...  ...      ...            ...   \n",
       "4995       1962   0.069660          1          1  ...        1              0   \n",
       "4996       2018   0.060753          1          1  ...        1              0   \n",
       "4997       1966   0.038693          1          1  ...        1              0   \n",
       "4998       1970   0.089040          1          1  ...        1              0   \n",
       "4999       2009   0.194489          1          1  ...        1              0   \n",
       "\n",
       "      HouseFloor_outlier  HouseYear_outlier  LifeSquare_nan  Healthcare_1_nan  \\\n",
       "0                      0                  0               0                 0   \n",
       "1                      0                  0               0                 1   \n",
       "2                      0                  0               1                 1   \n",
       "3                      0                  0               0                 1   \n",
       "4                      0                  0               1                 0   \n",
       "...                  ...                ...             ...               ...   \n",
       "4995                   1                  0               0                 1   \n",
       "4996                   0                  0               0                 0   \n",
       "4997                   0                  0               0                 0   \n",
       "4998                   0                  0               0                 1   \n",
       "4999                   0                  0               0                 0   \n",
       "\n",
       "      DistrictSize  new_district  IsDistrictLarge  MedPriceByFloorYear  \n",
       "0             70.0             0                0        190281.854804  \n",
       "1            164.0             0                1        172932.855768  \n",
       "2            568.0             0                1        171739.199220  \n",
       "3            375.0             0                1        180322.969962  \n",
       "4             76.0             0                0        191709.512465  \n",
       "...            ...           ...              ...                  ...  \n",
       "4995          59.0             0                0        190281.854804  \n",
       "4996          25.0             0                0        218975.318679  \n",
       "4997          69.0             0                0        180322.969962  \n",
       "4998          35.0             0                0        191709.512465  \n",
       "4999         120.0             0                1        229167.624266  \n",
       "\n",
       "[5000 rows x 26 columns]"
      ]
     },
     "execution_count": 96,
     "metadata": {},
     "output_type": "execute_result"
    }
   ],
   "source": [
    "test_df"
   ]
  },
  {
   "cell_type": "code",
   "execution_count": 98,
   "id": "hairy-recording",
   "metadata": {
    "execution": {
     "iopub.execute_input": "2021-05-20T16:51:27.397478Z",
     "iopub.status.busy": "2021-05-20T16:51:27.396825Z",
     "iopub.status.idle": "2021-05-20T16:51:27.417173Z",
     "shell.execute_reply": "2021-05-20T16:51:27.416646Z",
     "shell.execute_reply.started": "2021-05-20T16:48:01.802326Z"
    },
    "papermill": {
     "duration": 0.124072,
     "end_time": "2021-05-20T16:51:27.417332",
     "exception": false,
     "start_time": "2021-05-20T16:51:27.293260",
     "status": "completed"
    },
    "tags": []
   },
   "outputs": [
    {
     "data": {
      "text/html": [
       "<div>\n",
       "<style scoped>\n",
       "    .dataframe tbody tr th:only-of-type {\n",
       "        vertical-align: middle;\n",
       "    }\n",
       "\n",
       "    .dataframe tbody tr th {\n",
       "        vertical-align: top;\n",
       "    }\n",
       "\n",
       "    .dataframe thead th {\n",
       "        text-align: right;\n",
       "    }\n",
       "</style>\n",
       "<table border=\"1\" class=\"dataframe\">\n",
       "  <thead>\n",
       "    <tr style=\"text-align: right;\">\n",
       "      <th></th>\n",
       "      <th>Id</th>\n",
       "      <th>Price</th>\n",
       "    </tr>\n",
       "  </thead>\n",
       "  <tbody>\n",
       "    <tr>\n",
       "      <th>0</th>\n",
       "      <td>4567</td>\n",
       "      <td>200000.0</td>\n",
       "    </tr>\n",
       "    <tr>\n",
       "      <th>1</th>\n",
       "      <td>5925</td>\n",
       "      <td>200000.0</td>\n",
       "    </tr>\n",
       "    <tr>\n",
       "      <th>2</th>\n",
       "      <td>960</td>\n",
       "      <td>200000.0</td>\n",
       "    </tr>\n",
       "    <tr>\n",
       "      <th>3</th>\n",
       "      <td>3848</td>\n",
       "      <td>200000.0</td>\n",
       "    </tr>\n",
       "    <tr>\n",
       "      <th>4</th>\n",
       "      <td>746</td>\n",
       "      <td>200000.0</td>\n",
       "    </tr>\n",
       "  </tbody>\n",
       "</table>\n",
       "</div>"
      ],
      "text/plain": [
       "     Id     Price\n",
       "0  4567  200000.0\n",
       "1  5925  200000.0\n",
       "2   960  200000.0\n",
       "3  3848  200000.0\n",
       "4   746  200000.0"
      ]
     },
     "execution_count": 98,
     "metadata": {},
     "output_type": "execute_result"
    }
   ],
   "source": [
    "submit = pd.read_csv('/Users/artemlasenko/Documents/GeeksBrains/Numpy/Курсач/sample_submission.csv')\n",
    "submit.head()"
   ]
  },
  {
   "cell_type": "code",
   "execution_count": 99,
   "id": "negative-lottery",
   "metadata": {
    "execution": {
     "iopub.execute_input": "2021-05-20T16:51:27.625207Z",
     "iopub.status.busy": "2021-05-20T16:51:27.624565Z",
     "iopub.status.idle": "2021-05-20T16:51:27.645747Z",
     "shell.execute_reply": "2021-05-20T16:51:27.646263Z",
     "shell.execute_reply.started": "2021-05-20T16:48:01.817695Z"
    },
    "papermill": {
     "duration": 0.127877,
     "end_time": "2021-05-20T16:51:27.646464",
     "exception": false,
     "start_time": "2021-05-20T16:51:27.518587",
     "status": "completed"
    },
    "tags": []
   },
   "outputs": [
    {
     "data": {
      "text/plain": [
       "array([162622.28508003, 120643.7120832 , 140812.68508905, ...,\n",
       "       143874.03454034, 196048.10222245, 256947.19585464])"
      ]
     },
     "execution_count": 99,
     "metadata": {},
     "output_type": "execute_result"
    }
   ],
   "source": [
    "predictions = gb_model.predict(test_df)\n",
    "predictions"
   ]
  },
  {
   "cell_type": "code",
   "execution_count": 100,
   "id": "small-klein",
   "metadata": {
    "execution": {
     "iopub.execute_input": "2021-05-20T16:51:27.849721Z",
     "iopub.status.busy": "2021-05-20T16:51:27.849069Z",
     "iopub.status.idle": "2021-05-20T16:51:27.858395Z",
     "shell.execute_reply": "2021-05-20T16:51:27.858966Z",
     "shell.execute_reply.started": "2021-05-20T16:48:01.841803Z"
    },
    "papermill": {
     "duration": 0.112638,
     "end_time": "2021-05-20T16:51:27.859131",
     "exception": false,
     "start_time": "2021-05-20T16:51:27.746493",
     "status": "completed"
    },
    "tags": []
   },
   "outputs": [
    {
     "data": {
      "text/html": [
       "<div>\n",
       "<style scoped>\n",
       "    .dataframe tbody tr th:only-of-type {\n",
       "        vertical-align: middle;\n",
       "    }\n",
       "\n",
       "    .dataframe tbody tr th {\n",
       "        vertical-align: top;\n",
       "    }\n",
       "\n",
       "    .dataframe thead th {\n",
       "        text-align: right;\n",
       "    }\n",
       "</style>\n",
       "<table border=\"1\" class=\"dataframe\">\n",
       "  <thead>\n",
       "    <tr style=\"text-align: right;\">\n",
       "      <th></th>\n",
       "      <th>Id</th>\n",
       "      <th>Price</th>\n",
       "    </tr>\n",
       "  </thead>\n",
       "  <tbody>\n",
       "    <tr>\n",
       "      <th>0</th>\n",
       "      <td>4567</td>\n",
       "      <td>162622.285080</td>\n",
       "    </tr>\n",
       "    <tr>\n",
       "      <th>1</th>\n",
       "      <td>5925</td>\n",
       "      <td>120643.712083</td>\n",
       "    </tr>\n",
       "    <tr>\n",
       "      <th>2</th>\n",
       "      <td>960</td>\n",
       "      <td>140812.685089</td>\n",
       "    </tr>\n",
       "    <tr>\n",
       "      <th>3</th>\n",
       "      <td>3848</td>\n",
       "      <td>121529.375566</td>\n",
       "    </tr>\n",
       "    <tr>\n",
       "      <th>4</th>\n",
       "      <td>746</td>\n",
       "      <td>198938.463007</td>\n",
       "    </tr>\n",
       "  </tbody>\n",
       "</table>\n",
       "</div>"
      ],
      "text/plain": [
       "     Id          Price\n",
       "0  4567  162622.285080\n",
       "1  5925  120643.712083\n",
       "2   960  140812.685089\n",
       "3  3848  121529.375566\n",
       "4   746  198938.463007"
      ]
     },
     "execution_count": 100,
     "metadata": {},
     "output_type": "execute_result"
    }
   ],
   "source": [
    "submit['Price'] = predictions\n",
    "submit.head()"
   ]
  },
  {
   "cell_type": "code",
   "execution_count": 101,
   "id": "lonely-puppy",
   "metadata": {
    "execution": {
     "iopub.execute_input": "2021-05-20T16:51:28.062291Z",
     "iopub.status.busy": "2021-05-20T16:51:28.061430Z",
     "iopub.status.idle": "2021-05-20T16:51:28.087712Z",
     "shell.execute_reply": "2021-05-20T16:51:28.087147Z",
     "shell.execute_reply.started": "2021-05-20T16:48:01.852790Z"
    },
    "papermill": {
     "duration": 0.129086,
     "end_time": "2021-05-20T16:51:28.087862",
     "exception": false,
     "start_time": "2021-05-20T16:51:27.958776",
     "status": "completed"
    },
    "tags": []
   },
   "outputs": [],
   "source": [
    "submit.to_csv('gb_submit.csv', index=False)"
   ]
  },
  {
   "cell_type": "code",
   "execution_count": null,
   "id": "843c0945",
   "metadata": {},
   "outputs": [],
   "source": []
  }
 ],
 "metadata": {
  "kernelspec": {
   "display_name": "Python 3 (ipykernel)",
   "language": "python",
   "name": "python3"
  },
  "language_info": {
   "codemirror_mode": {
    "name": "ipython",
    "version": 3
   },
   "file_extension": ".py",
   "mimetype": "text/x-python",
   "name": "python",
   "nbconvert_exporter": "python",
   "pygments_lexer": "ipython3",
   "version": "3.9.7"
  },
  "papermill": {
   "default_parameters": {},
   "duration": 38.978244,
   "end_time": "2021-05-20T16:51:29.484841",
   "environment_variables": {},
   "exception": null,
   "input_path": "__notebook__.ipynb",
   "output_path": "__notebook__.ipynb",
   "parameters": {},
   "start_time": "2021-05-20T16:50:50.506597",
   "version": "2.3.3"
  }
 },
 "nbformat": 4,
 "nbformat_minor": 5
}
